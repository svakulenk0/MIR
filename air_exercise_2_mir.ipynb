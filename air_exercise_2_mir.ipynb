{
 "cells": [
  {
   "cell_type": "markdown",
   "metadata": {},
   "source": [
    "<center>\n",
    "<h1>188.980 Advanced Information Retrieval</h1>\n",
    "<h2>Exercise 2 - Music Information Retrieval</h2>\n",
    "</center>"
   ]
  },
  {
   "cell_type": "markdown",
   "metadata": {
    "run_control": {
     "marked": false
    }
   },
   "source": [
    "**Group Number:** 12\n",
    "\n",
    "* **Group members:**\n",
    " * **Full Name:** Svitlana Vakulenko\n",
    "   * *Matrikelnummer:* 01525172\n",
    "   * *Studienkennzahl:* E 786 881"
   ]
  },
  {
   "cell_type": "markdown",
   "metadata": {},
   "source": [
    "# Introduction\n",
    "\n",
    "The aim of this exercise is to get insights into music information retrieval practices. You will follow a content based approach which is based on the idea that the semantically relevant information is provided in the audio itself. Thus the aim is to identify and extract this information in a meaningful representation. "
   ]
  },
  {
   "cell_type": "code",
   "execution_count": 3,
   "metadata": {
    "ExecuteTime": {
     "end_time": "2017-05-15T23:32:43.591000",
     "start_time": "2017-05-15T23:32:43.496000"
    },
    "collapsed": false
   },
   "outputs": [],
   "source": [
    "%load_ext autoreload\n",
    "%autoreload 2\n",
    "\n",
    "# plotting functions\n",
    "%matplotlib inline\n",
    "import matplotlib\n",
    "import matplotlib.pyplot as plt\n",
    "\n",
    "import os              # access to operating system functions\n",
    "import glob            # reg-ex based file-iterator\n",
    "\n",
    "# scientific computing\n",
    "import numpy as np     # numerical computing\n",
    "import pandas as pd    # powerful data processing library\n",
    "\n",
    "# audio feature extraction\n",
    "import librosa\n",
    "from rp_extract import rp_extract\n",
    "\n",
    "# machine learning\n",
    "from sklearn.preprocessing import LabelEncoder, StandardScaler\n",
    "# use pip install -U scikit-learn to update sklearn if this line throws an error\n",
    "from sklearn.model_selection import StratifiedKFold\n",
    "from sklearn.svm import LinearSVC\n",
    "\n",
    "from utility_functions import show_classification_results, plot_confusion_matrix, show_query_results\n",
    "\n",
    "# misc\n",
    "import itertools\n",
    "import progressbar"
   ]
  },
  {
   "cell_type": "markdown",
   "metadata": {},
   "source": [
    "# Prepare your data\n",
    "\n",
    "First, please download the specified data-set, extract it locally to your hardisk and specify the full-path to the extracted directory to the *AUDIO_COLLECTION_PATH* variable below"
   ]
  },
  {
   "cell_type": "code",
   "execution_count": 99,
   "metadata": {
    "ExecuteTime": {
     "end_time": "2017-05-15T23:13:48.264000",
     "start_time": "2017-05-15T23:13:48.186000"
    },
    "collapsed": true
   },
   "outputs": [],
   "source": [
    "# GTZAN Genre Collection downloaded from http://marsyasweb.appspot.com/download/data_sets/\n",
    "# The dataset consists of 1000 audio tracks each 30 seconds long\n",
    "N_SAMPLES = 1000\n",
    "# tar -xvf genres.tar into the folder:\n",
    "AUDIO_COLLECTION_PATH = \"./dataset/genres/\""
   ]
  },
  {
   "cell_type": "markdown",
   "metadata": {},
   "source": [
    "**Prepare file-lists and ground-truth labels**\n",
    "\n",
    "Define the collection of files to process and the corresponding class labels which is also known as *ground truth*.\n",
    "\n",
    "* create a list of filenames and a list of corresponding labels\n",
    "  * e.g. use [glob](https://docs.python.org/2/library/glob.html) to iterate over the class directories in the music collection\n",
    "  * use the names of the subdirectories as label names\n",
    "  * iterate through all class directories and get all filenames with the extension '.au'\n",
    "  * store the filename and its corresponding label in the two lists *filenames* and *labels*\n",
    "  \n",
    "Take care that both lists are synchronously aligned and that each label corresponds to the right filename."
   ]
  },
  {
   "cell_type": "code",
   "execution_count": 100,
   "metadata": {
    "ExecuteTime": {
     "end_time": "2017-05-15T23:13:48.642000",
     "start_time": "2017-05-15T23:13:48.568000"
    },
    "collapsed": false
   },
   "outputs": [
    {
     "name": "stdout",
     "output_type": "stream",
     "text": [
      "blues 100\n",
      "classical 100\n",
      "country 100\n",
      "disco 100\n",
      "hiphop 100\n",
      "jazz 100\n",
      "metal 100\n",
      "pop 100\n",
      "reggae 100\n",
      "rock 100\n"
     ]
    }
   ],
   "source": [
    "# fill these lists with values\n",
    "filenames = []\n",
    "labels    = []\n",
    "# iterate over genre subfolders\n",
    "for subdir in glob.glob(AUDIO_COLLECTION_PATH+'*'):\n",
    "    genre = subdir.split('/')[-1]\n",
    "    \n",
    "    # get all filenames with the extension '.au'\n",
    "    genre_files = glob.glob(subdir+'/*.au')\n",
    "    filenames.extend(genre_files)\n",
    "    labels.extend([genre]*len(genre_files))\n",
    "    \n",
    "    print genre, len(genre_files)\n",
    "    assert len(filenames) == len(labels)\n",
    "assert len(filenames) == N_SAMPLES"
   ]
  },
  {
   "cell_type": "markdown",
   "metadata": {},
   "source": [
    "# Music Feature Extraction\n",
    "\n",
    "*Feature extraction* is a crucial part of content-based approaches. The goal is to transform and reduce the information provided by the digital audio signal into a set of semantically descriptive numbers. A typical CD quality mainstream radio track has an average length of three minutes. This means, that song is digitally described in Pulse-code Modulation (PCM) by 15.9 million numbers (3 [minutes] x 60 [seconds] x 2 [stereo channels] x 44100 [sampling rate]). Using CD-quality 16bit encoding this information requires 30.3MB of memory. Besides music specific reasons, the computational obstacles concerned with processing of huge music collections make raw audio processing a suboptimal solution. Feature design and implementation tries to overcome technological obstacles of digital audio and to extract essential music properties that can be used to analyze, compare or classify music. \n",
    "\n",
    "You will use the common music features as descriptors for timbre \\cite{logan2000mel}, rhythm \\cite{lidy10_ethnic} or general spectral properties \\cite{tzanetakis2000marsyas,lartillot2007matlab}."
   ]
  },
  {
   "cell_type": "markdown",
   "metadata": {},
   "source": [
    "\n",
    "\n",
    "* iterate over all audio files\n",
    "    1. load audio data using the [librosa.core.load](http://librosa.github.io/librosa/generated/librosa.core.load.html) function. The feature extractors you will use expect a mono signal as input, so take care to appropriately load or convert the audio data.<br><br>\n",
    "    2. extract music features<br><br>\n",
    "        2.1. [Mel-frequency cepstral coefficients (MFCC)](http://librosa.github.io/librosa/generated/librosa.feature.mfcc.html) (librosa): extract 12 coefficients using a FFT-window size of 1024 samples with 50% overlap (this corresponds to a hop-length of 512 samples). To correctly calculate the coefficients the samplerate of the audio file has to be provided.<br>\n",
    "         2.2. [Pitch-classes / Chroma](http://librosa.github.io/librosa/generated/librosa.feature.chroma_stft.html) (librosa): extract the chroma features using a FFT-window size of 1024 samples with 50% overlap, similar to the MFCCs. Also supply the correct samplerate.<br>\n",
    "         2.3. The features extracted using the libros-library are provided on a frame-level. They are calculated for each FFT-window and thus the results are lists of feature vectors. The machine learning algorithms you will be using expect a single-vector per instance. Thus, the extracted feature vectors need to be aggregated into a single-vector representation. You will be using the simple approach of just calculating their mean and standard-deviations. Perform the following operations for the *MFCC* and *chroma* features:\n",
    "      * use the numpy functions *mean* and *std* to calculate the statistical moments of the extracted features along the appropriate axis.\n",
    "      * use the numpy function *concatenate* to concatenate the statistical moments into a single vector\n",
    "  \n",
    "    2.4. *Statistical Spectrum Descriptors* and *Rhythm Patterns*: use the following code to extract the psychoaccoustic feature-sets. The function returns a dictionary of extracted features. The Statistical Spectrum Descriptors are stored using the key 'ssd' and the Rhythm Patterns using the key 'rp'. The features are already single vectors so no post-processing is required.\n",
    "\n",
    "                rp_features = rp_extract(wave_data, \n",
    "                                         samplerate, \n",
    "                                         extract_ssd = True, \n",
    "                                         extract_rp  = True,\n",
    "                                         skip_leadin_fadeout = 0, \n",
    "                                         verbose     = False)\n",
    "\n",
    "    3. append the extracted features to the dictionary embedded lists which are provided above.<br><br>\n",
    "    4. finally iterate over the dictionary keys and convert the lists of extracted feature-vectors into feature-spaces by converting them into numpy arrays using the numpy *asarray* function.\n",
    "\n",
    "  \n",
    "The feature extraction will take about 30 minutes"
   ]
  },
  {
   "cell_type": "code",
   "execution_count": 76,
   "metadata": {
    "ExecuteTime": {
     "end_time": "2017-05-15T22:57:30.406000",
     "start_time": "2017-05-15T22:57:30.398000"
    },
    "collapsed": false
   },
   "outputs": [
    {
     "name": "stderr",
     "output_type": "stream",
     "text": [
      "  0% |                                                                        |\r"
     ]
    },
    {
     "name": "stdout",
     "output_type": "stream",
     "text": [
      "./dataset/genres/blues/blues.00000.au\n",
      "./dataset/genres/blues/blues.00001.au\n",
      "./dataset/genres/blues/blues.00002.au\n",
      "./dataset/genres/blues/blues.00003.au\n",
      "./dataset/genres/blues/blues.00004.au\n",
      "./dataset/genres/blues/blues.00005.au\n",
      "./dataset/genres/blues/blues.00006.au\n",
      "./dataset/genres/blues/blues.00007.au\n",
      "./dataset/genres/blues/blues.00008.au\n",
      "./dataset/genres/blues/blues.00009.au\n"
     ]
    },
    {
     "name": "stderr",
     "output_type": "stream",
     "text": [
      "  1% |                                                                        |\r"
     ]
    },
    {
     "name": "stdout",
     "output_type": "stream",
     "text": [
      "./dataset/genres/blues/blues.00010.au\n",
      "./dataset/genres/blues/blues.00011.au\n",
      "./dataset/genres/blues/blues.00012.au\n",
      "./dataset/genres/blues/blues.00013.au\n",
      "./dataset/genres/blues/blues.00014.au\n",
      "./dataset/genres/blues/blues.00015.au\n",
      "./dataset/genres/blues/blues.00016.au\n",
      "./dataset/genres/blues/blues.00017.au\n",
      "./dataset/genres/blues/blues.00018.au\n",
      "./dataset/genres/blues/blues.00019.au\n"
     ]
    },
    {
     "name": "stderr",
     "output_type": "stream",
     "text": [
      "  2% |#                                                                       |\r"
     ]
    },
    {
     "name": "stdout",
     "output_type": "stream",
     "text": [
      "./dataset/genres/blues/blues.00020.au\n",
      "./dataset/genres/blues/blues.00021.au\n",
      "./dataset/genres/blues/blues.00022.au\n",
      "./dataset/genres/blues/blues.00023.au\n",
      "./dataset/genres/blues/blues.00024.au\n",
      "./dataset/genres/blues/blues.00025.au\n",
      "./dataset/genres/blues/blues.00026.au\n",
      "./dataset/genres/blues/blues.00027.au\n",
      "./dataset/genres/blues/blues.00028.au\n",
      "./dataset/genres/blues/blues.00029.au\n"
     ]
    },
    {
     "name": "stderr",
     "output_type": "stream",
     "text": [
      "  3% |##                                                                      |\r"
     ]
    },
    {
     "name": "stdout",
     "output_type": "stream",
     "text": [
      "./dataset/genres/blues/blues.00030.au\n",
      "./dataset/genres/blues/blues.00031.au\n",
      "./dataset/genres/blues/blues.00032.au\n",
      "./dataset/genres/blues/blues.00033.au\n",
      "./dataset/genres/blues/blues.00034.au\n",
      "./dataset/genres/blues/blues.00035.au\n",
      "./dataset/genres/blues/blues.00036.au\n",
      "./dataset/genres/blues/blues.00037.au\n",
      "./dataset/genres/blues/blues.00038.au\n",
      "./dataset/genres/blues/blues.00039.au\n"
     ]
    },
    {
     "name": "stderr",
     "output_type": "stream",
     "text": [
      "  4% |##                                                                      |\r"
     ]
    },
    {
     "name": "stdout",
     "output_type": "stream",
     "text": [
      "./dataset/genres/blues/blues.00040.au\n",
      "./dataset/genres/blues/blues.00041.au\n",
      "./dataset/genres/blues/blues.00042.au\n",
      "./dataset/genres/blues/blues.00043.au\n",
      "./dataset/genres/blues/blues.00044.au\n",
      "./dataset/genres/blues/blues.00045.au\n",
      "./dataset/genres/blues/blues.00046.au\n",
      "./dataset/genres/blues/blues.00047.au\n",
      "./dataset/genres/blues/blues.00048.au\n",
      "./dataset/genres/blues/blues.00049.au\n"
     ]
    },
    {
     "name": "stderr",
     "output_type": "stream",
     "text": [
      "  5% |###                                                                     |\r"
     ]
    },
    {
     "name": "stdout",
     "output_type": "stream",
     "text": [
      "./dataset/genres/blues/blues.00050.au\n",
      "./dataset/genres/blues/blues.00051.au\n",
      "./dataset/genres/blues/blues.00052.au\n",
      "./dataset/genres/blues/blues.00053.au\n",
      "./dataset/genres/blues/blues.00054.au\n",
      "./dataset/genres/blues/blues.00055.au\n",
      "./dataset/genres/blues/blues.00056.au\n",
      "./dataset/genres/blues/blues.00057.au\n",
      "./dataset/genres/blues/blues.00058.au\n",
      "./dataset/genres/blues/blues.00059.au\n"
     ]
    },
    {
     "name": "stderr",
     "output_type": "stream",
     "text": [
      "  6% |####                                                                    |\r"
     ]
    },
    {
     "name": "stdout",
     "output_type": "stream",
     "text": [
      "./dataset/genres/blues/blues.00060.au\n",
      "./dataset/genres/blues/blues.00061.au\n",
      "./dataset/genres/blues/blues.00062.au\n",
      "./dataset/genres/blues/blues.00063.au\n",
      "./dataset/genres/blues/blues.00064.au\n",
      "./dataset/genres/blues/blues.00065.au\n",
      "./dataset/genres/blues/blues.00066.au\n",
      "./dataset/genres/blues/blues.00067.au\n",
      "./dataset/genres/blues/blues.00068.au\n",
      "./dataset/genres/blues/blues.00069.au\n"
     ]
    },
    {
     "name": "stderr",
     "output_type": "stream",
     "text": [
      "  7% |#####                                                                   |\r"
     ]
    },
    {
     "name": "stdout",
     "output_type": "stream",
     "text": [
      "./dataset/genres/blues/blues.00070.au\n",
      "./dataset/genres/blues/blues.00071.au\n",
      "./dataset/genres/blues/blues.00072.au\n",
      "./dataset/genres/blues/blues.00073.au\n",
      "./dataset/genres/blues/blues.00074.au\n",
      "./dataset/genres/blues/blues.00075.au\n",
      "./dataset/genres/blues/blues.00076.au\n",
      "./dataset/genres/blues/blues.00077.au\n",
      "./dataset/genres/blues/blues.00078.au\n",
      "./dataset/genres/blues/blues.00079.au\n"
     ]
    },
    {
     "name": "stderr",
     "output_type": "stream",
     "text": [
      "  8% |#####                                                                   |\r"
     ]
    },
    {
     "name": "stdout",
     "output_type": "stream",
     "text": [
      "./dataset/genres/blues/blues.00080.au\n",
      "./dataset/genres/blues/blues.00081.au\n",
      "./dataset/genres/blues/blues.00082.au\n",
      "./dataset/genres/blues/blues.00083.au\n",
      "./dataset/genres/blues/blues.00084.au\n",
      "./dataset/genres/blues/blues.00085.au\n",
      "./dataset/genres/blues/blues.00086.au\n",
      "./dataset/genres/blues/blues.00087.au\n",
      "./dataset/genres/blues/blues.00088.au\n",
      "./dataset/genres/blues/blues.00089.au\n"
     ]
    },
    {
     "name": "stderr",
     "output_type": "stream",
     "text": [
      "  9% |######                                                                  |\r"
     ]
    },
    {
     "name": "stdout",
     "output_type": "stream",
     "text": [
      "./dataset/genres/blues/blues.00090.au\n",
      "./dataset/genres/blues/blues.00091.au\n",
      "./dataset/genres/blues/blues.00092.au\n",
      "./dataset/genres/blues/blues.00093.au\n",
      "./dataset/genres/blues/blues.00094.au\n",
      "./dataset/genres/blues/blues.00095.au\n",
      "./dataset/genres/blues/blues.00096.au\n",
      "./dataset/genres/blues/blues.00097.au\n",
      "./dataset/genres/blues/blues.00098.au\n",
      "./dataset/genres/blues/blues.00099.au\n"
     ]
    },
    {
     "name": "stderr",
     "output_type": "stream",
     "text": [
      " 10% |#######                                                                 |\r"
     ]
    },
    {
     "name": "stdout",
     "output_type": "stream",
     "text": [
      "./dataset/genres/classical/classical.00000.au\n",
      "./dataset/genres/classical/classical.00001.au\n",
      "./dataset/genres/classical/classical.00002.au\n",
      "./dataset/genres/classical/classical.00003.au\n",
      "./dataset/genres/classical/classical.00004.au\n",
      "./dataset/genres/classical/classical.00005.au\n",
      "./dataset/genres/classical/classical.00006.au\n",
      "./dataset/genres/classical/classical.00007.au\n",
      "./dataset/genres/classical/classical.00008.au\n",
      "./dataset/genres/classical/classical.00009.au\n"
     ]
    },
    {
     "name": "stderr",
     "output_type": "stream",
     "text": [
      " 11% |#######                                                                 |\r"
     ]
    },
    {
     "name": "stdout",
     "output_type": "stream",
     "text": [
      "./dataset/genres/classical/classical.00010.au\n",
      "./dataset/genres/classical/classical.00011.au\n",
      "./dataset/genres/classical/classical.00012.au\n",
      "./dataset/genres/classical/classical.00013.au\n",
      "./dataset/genres/classical/classical.00014.au\n",
      "./dataset/genres/classical/classical.00015.au\n",
      "./dataset/genres/classical/classical.00016.au\n",
      "./dataset/genres/classical/classical.00017.au\n",
      "./dataset/genres/classical/classical.00018.au\n",
      "./dataset/genres/classical/classical.00019.au\n"
     ]
    },
    {
     "name": "stderr",
     "output_type": "stream",
     "text": [
      " 12% |########                                                                |\r"
     ]
    },
    {
     "name": "stdout",
     "output_type": "stream",
     "text": [
      "./dataset/genres/classical/classical.00020.au\n",
      "./dataset/genres/classical/classical.00021.au\n",
      "./dataset/genres/classical/classical.00022.au\n",
      "./dataset/genres/classical/classical.00023.au\n",
      "./dataset/genres/classical/classical.00024.au\n",
      "./dataset/genres/classical/classical.00025.au\n",
      "./dataset/genres/classical/classical.00026.au\n",
      "./dataset/genres/classical/classical.00027.au\n",
      "./dataset/genres/classical/classical.00028.au\n",
      "./dataset/genres/classical/classical.00029.au\n"
     ]
    },
    {
     "name": "stderr",
     "output_type": "stream",
     "text": [
      " 13% |#########                                                               |\r"
     ]
    },
    {
     "name": "stdout",
     "output_type": "stream",
     "text": [
      "./dataset/genres/classical/classical.00030.au\n",
      "./dataset/genres/classical/classical.00031.au\n",
      "./dataset/genres/classical/classical.00032.au\n",
      "./dataset/genres/classical/classical.00033.au\n",
      "./dataset/genres/classical/classical.00034.au\n",
      "./dataset/genres/classical/classical.00035.au\n",
      "./dataset/genres/classical/classical.00036.au\n",
      "./dataset/genres/classical/classical.00037.au\n",
      "./dataset/genres/classical/classical.00038.au\n",
      "./dataset/genres/classical/classical.00039.au\n"
     ]
    },
    {
     "name": "stderr",
     "output_type": "stream",
     "text": [
      " 14% |##########                                                              |\r"
     ]
    },
    {
     "name": "stdout",
     "output_type": "stream",
     "text": [
      "./dataset/genres/classical/classical.00040.au\n",
      "./dataset/genres/classical/classical.00041.au\n",
      "./dataset/genres/classical/classical.00042.au\n",
      "./dataset/genres/classical/classical.00043.au\n",
      "./dataset/genres/classical/classical.00044.au\n",
      "./dataset/genres/classical/classical.00045.au\n",
      "./dataset/genres/classical/classical.00046.au\n",
      "./dataset/genres/classical/classical.00047.au\n",
      "./dataset/genres/classical/classical.00048.au\n",
      "./dataset/genres/classical/classical.00049.au\n"
     ]
    },
    {
     "name": "stderr",
     "output_type": "stream",
     "text": [
      " 15% |##########                                                              |\r"
     ]
    },
    {
     "name": "stdout",
     "output_type": "stream",
     "text": [
      "./dataset/genres/classical/classical.00050.au\n",
      "./dataset/genres/classical/classical.00051.au\n",
      "./dataset/genres/classical/classical.00052.au\n",
      "./dataset/genres/classical/classical.00053.au\n",
      "./dataset/genres/classical/classical.00054.au\n",
      "./dataset/genres/classical/classical.00055.au\n",
      "./dataset/genres/classical/classical.00056.au\n",
      "./dataset/genres/classical/classical.00057.au\n",
      "./dataset/genres/classical/classical.00058.au\n",
      "./dataset/genres/classical/classical.00059.au\n"
     ]
    },
    {
     "name": "stderr",
     "output_type": "stream",
     "text": [
      " 16% |###########                                                             |\r"
     ]
    },
    {
     "name": "stdout",
     "output_type": "stream",
     "text": [
      "./dataset/genres/classical/classical.00060.au\n",
      "./dataset/genres/classical/classical.00061.au\n",
      "./dataset/genres/classical/classical.00062.au\n",
      "./dataset/genres/classical/classical.00063.au\n",
      "./dataset/genres/classical/classical.00064.au\n",
      "./dataset/genres/classical/classical.00065.au\n",
      "./dataset/genres/classical/classical.00066.au\n",
      "./dataset/genres/classical/classical.00067.au\n",
      "./dataset/genres/classical/classical.00068.au\n",
      "./dataset/genres/classical/classical.00069.au\n"
     ]
    },
    {
     "name": "stderr",
     "output_type": "stream",
     "text": [
      " 17% |############                                                            |\r"
     ]
    },
    {
     "name": "stdout",
     "output_type": "stream",
     "text": [
      "./dataset/genres/classical/classical.00070.au\n",
      "./dataset/genres/classical/classical.00071.au\n",
      "./dataset/genres/classical/classical.00072.au\n",
      "./dataset/genres/classical/classical.00073.au\n",
      "./dataset/genres/classical/classical.00074.au\n",
      "./dataset/genres/classical/classical.00075.au\n",
      "./dataset/genres/classical/classical.00076.au\n",
      "./dataset/genres/classical/classical.00077.au\n",
      "./dataset/genres/classical/classical.00078.au\n",
      "./dataset/genres/classical/classical.00079.au\n"
     ]
    },
    {
     "name": "stderr",
     "output_type": "stream",
     "text": [
      " 18% |############                                                            |\r"
     ]
    },
    {
     "name": "stdout",
     "output_type": "stream",
     "text": [
      "./dataset/genres/classical/classical.00080.au\n",
      "./dataset/genres/classical/classical.00081.au\n",
      "./dataset/genres/classical/classical.00082.au\n",
      "./dataset/genres/classical/classical.00083.au\n",
      "./dataset/genres/classical/classical.00084.au\n",
      "./dataset/genres/classical/classical.00085.au\n",
      "./dataset/genres/classical/classical.00086.au\n",
      "./dataset/genres/classical/classical.00087.au\n",
      "./dataset/genres/classical/classical.00088.au\n",
      "./dataset/genres/classical/classical.00089.au\n"
     ]
    },
    {
     "name": "stderr",
     "output_type": "stream",
     "text": [
      " 19% |#############                                                           |\r"
     ]
    },
    {
     "name": "stdout",
     "output_type": "stream",
     "text": [
      "./dataset/genres/classical/classical.00090.au\n",
      "./dataset/genres/classical/classical.00091.au\n",
      "./dataset/genres/classical/classical.00092.au\n",
      "./dataset/genres/classical/classical.00093.au\n",
      "./dataset/genres/classical/classical.00094.au\n",
      "./dataset/genres/classical/classical.00095.au\n",
      "./dataset/genres/classical/classical.00096.au\n",
      "./dataset/genres/classical/classical.00097.au\n",
      "./dataset/genres/classical/classical.00098.au\n",
      "./dataset/genres/classical/classical.00099.au\n"
     ]
    },
    {
     "name": "stderr",
     "output_type": "stream",
     "text": [
      " 20% |##############                                                          |\r"
     ]
    },
    {
     "name": "stdout",
     "output_type": "stream",
     "text": [
      "./dataset/genres/country/country.00000.au\n",
      "./dataset/genres/country/country.00001.au\n",
      "./dataset/genres/country/country.00002.au\n",
      "./dataset/genres/country/country.00003.au\n",
      "./dataset/genres/country/country.00004.au\n",
      "./dataset/genres/country/country.00005.au\n",
      "./dataset/genres/country/country.00006.au\n",
      "./dataset/genres/country/country.00007.au\n",
      "./dataset/genres/country/country.00008.au\n",
      "./dataset/genres/country/country.00009.au\n"
     ]
    },
    {
     "name": "stderr",
     "output_type": "stream",
     "text": [
      " 21% |###############                                                         |\r"
     ]
    },
    {
     "name": "stdout",
     "output_type": "stream",
     "text": [
      "./dataset/genres/country/country.00010.au\n",
      "./dataset/genres/country/country.00011.au\n",
      "./dataset/genres/country/country.00012.au\n",
      "./dataset/genres/country/country.00013.au\n",
      "./dataset/genres/country/country.00014.au\n",
      "./dataset/genres/country/country.00015.au\n",
      "./dataset/genres/country/country.00016.au\n",
      "./dataset/genres/country/country.00017.au\n",
      "./dataset/genres/country/country.00018.au\n",
      "./dataset/genres/country/country.00019.au\n"
     ]
    },
    {
     "name": "stderr",
     "output_type": "stream",
     "text": [
      " 22% |###############                                                         |\r"
     ]
    },
    {
     "name": "stdout",
     "output_type": "stream",
     "text": [
      "./dataset/genres/country/country.00020.au\n",
      "./dataset/genres/country/country.00021.au\n",
      "./dataset/genres/country/country.00022.au\n",
      "./dataset/genres/country/country.00023.au\n",
      "./dataset/genres/country/country.00024.au\n",
      "./dataset/genres/country/country.00025.au\n",
      "./dataset/genres/country/country.00026.au\n",
      "./dataset/genres/country/country.00027.au\n",
      "./dataset/genres/country/country.00028.au\n",
      "./dataset/genres/country/country.00029.au\n"
     ]
    },
    {
     "name": "stderr",
     "output_type": "stream",
     "text": [
      " 23% |################                                                        |\r"
     ]
    },
    {
     "name": "stdout",
     "output_type": "stream",
     "text": [
      "./dataset/genres/country/country.00030.au\n",
      "./dataset/genres/country/country.00031.au\n",
      "./dataset/genres/country/country.00032.au\n",
      "./dataset/genres/country/country.00033.au\n",
      "./dataset/genres/country/country.00034.au\n",
      "./dataset/genres/country/country.00035.au\n",
      "./dataset/genres/country/country.00036.au\n",
      "./dataset/genres/country/country.00037.au\n",
      "./dataset/genres/country/country.00038.au\n",
      "./dataset/genres/country/country.00039.au\n"
     ]
    },
    {
     "name": "stderr",
     "output_type": "stream",
     "text": [
      " 24% |#################                                                       |\r"
     ]
    },
    {
     "name": "stdout",
     "output_type": "stream",
     "text": [
      "./dataset/genres/country/country.00040.au\n",
      "./dataset/genres/country/country.00041.au\n",
      "./dataset/genres/country/country.00042.au\n",
      "./dataset/genres/country/country.00043.au\n",
      "./dataset/genres/country/country.00044.au\n",
      "./dataset/genres/country/country.00045.au\n",
      "./dataset/genres/country/country.00046.au\n",
      "./dataset/genres/country/country.00047.au\n",
      "./dataset/genres/country/country.00048.au\n",
      "./dataset/genres/country/country.00049.au\n"
     ]
    },
    {
     "name": "stderr",
     "output_type": "stream",
     "text": [
      " 25% |##################                                                      |\r"
     ]
    },
    {
     "name": "stdout",
     "output_type": "stream",
     "text": [
      "./dataset/genres/country/country.00050.au\n",
      "./dataset/genres/country/country.00051.au\n",
      "./dataset/genres/country/country.00052.au\n",
      "./dataset/genres/country/country.00053.au\n",
      "./dataset/genres/country/country.00054.au\n",
      "./dataset/genres/country/country.00055.au\n",
      "./dataset/genres/country/country.00056.au\n",
      "./dataset/genres/country/country.00057.au\n",
      "./dataset/genres/country/country.00058.au\n",
      "./dataset/genres/country/country.00059.au\n"
     ]
    },
    {
     "name": "stderr",
     "output_type": "stream",
     "text": [
      " 26% |##################                                                      |\r"
     ]
    },
    {
     "name": "stdout",
     "output_type": "stream",
     "text": [
      "./dataset/genres/country/country.00060.au\n",
      "./dataset/genres/country/country.00061.au\n",
      "./dataset/genres/country/country.00062.au\n",
      "./dataset/genres/country/country.00063.au\n",
      "./dataset/genres/country/country.00064.au\n",
      "./dataset/genres/country/country.00065.au\n",
      "./dataset/genres/country/country.00066.au\n",
      "./dataset/genres/country/country.00067.au\n",
      "./dataset/genres/country/country.00068.au\n",
      "./dataset/genres/country/country.00069.au\n"
     ]
    },
    {
     "name": "stderr",
     "output_type": "stream",
     "text": [
      " 27% |###################                                                     |\r"
     ]
    },
    {
     "name": "stdout",
     "output_type": "stream",
     "text": [
      "./dataset/genres/country/country.00070.au\n",
      "./dataset/genres/country/country.00071.au\n",
      "./dataset/genres/country/country.00072.au\n",
      "./dataset/genres/country/country.00073.au\n",
      "./dataset/genres/country/country.00074.au\n",
      "./dataset/genres/country/country.00075.au\n",
      "./dataset/genres/country/country.00076.au\n",
      "./dataset/genres/country/country.00077.au\n",
      "./dataset/genres/country/country.00078.au\n",
      "./dataset/genres/country/country.00079.au\n"
     ]
    },
    {
     "name": "stderr",
     "output_type": "stream",
     "text": [
      " 28% |####################                                                    |\r"
     ]
    },
    {
     "name": "stdout",
     "output_type": "stream",
     "text": [
      "./dataset/genres/country/country.00080.au\n",
      "./dataset/genres/country/country.00081.au\n",
      "./dataset/genres/country/country.00082.au\n",
      "./dataset/genres/country/country.00083.au\n",
      "./dataset/genres/country/country.00084.au\n",
      "./dataset/genres/country/country.00085.au\n",
      "./dataset/genres/country/country.00086.au\n",
      "./dataset/genres/country/country.00087.au\n",
      "./dataset/genres/country/country.00088.au\n",
      "./dataset/genres/country/country.00089.au\n"
     ]
    },
    {
     "name": "stderr",
     "output_type": "stream",
     "text": [
      " 29% |####################                                                    |\r"
     ]
    },
    {
     "name": "stdout",
     "output_type": "stream",
     "text": [
      "./dataset/genres/country/country.00090.au\n",
      "./dataset/genres/country/country.00091.au\n",
      "./dataset/genres/country/country.00092.au\n",
      "./dataset/genres/country/country.00093.au\n",
      "./dataset/genres/country/country.00094.au\n",
      "./dataset/genres/country/country.00095.au\n",
      "./dataset/genres/country/country.00096.au\n",
      "./dataset/genres/country/country.00097.au\n",
      "./dataset/genres/country/country.00098.au\n",
      "./dataset/genres/country/country.00099.au\n"
     ]
    },
    {
     "name": "stderr",
     "output_type": "stream",
     "text": [
      " 30% |#####################                                                   |\r"
     ]
    },
    {
     "name": "stdout",
     "output_type": "stream",
     "text": [
      "./dataset/genres/disco/disco.00000.au\n",
      "./dataset/genres/disco/disco.00001.au\n",
      "./dataset/genres/disco/disco.00002.au\n",
      "./dataset/genres/disco/disco.00003.au\n",
      "./dataset/genres/disco/disco.00004.au\n",
      "./dataset/genres/disco/disco.00005.au\n",
      "./dataset/genres/disco/disco.00006.au\n",
      "./dataset/genres/disco/disco.00007.au\n",
      "./dataset/genres/disco/disco.00008.au\n",
      "./dataset/genres/disco/disco.00009.au\n"
     ]
    },
    {
     "name": "stderr",
     "output_type": "stream",
     "text": [
      " 31% |######################                                                  |\r"
     ]
    },
    {
     "name": "stdout",
     "output_type": "stream",
     "text": [
      "./dataset/genres/disco/disco.00010.au\n",
      "./dataset/genres/disco/disco.00011.au\n",
      "./dataset/genres/disco/disco.00012.au\n",
      "./dataset/genres/disco/disco.00013.au\n",
      "./dataset/genres/disco/disco.00014.au\n",
      "./dataset/genres/disco/disco.00015.au\n",
      "./dataset/genres/disco/disco.00016.au\n",
      "./dataset/genres/disco/disco.00017.au\n",
      "./dataset/genres/disco/disco.00018.au\n",
      "./dataset/genres/disco/disco.00019.au\n"
     ]
    },
    {
     "name": "stderr",
     "output_type": "stream",
     "text": [
      " 32% |#######################                                                 |\r"
     ]
    },
    {
     "name": "stdout",
     "output_type": "stream",
     "text": [
      "./dataset/genres/disco/disco.00020.au\n",
      "./dataset/genres/disco/disco.00021.au\n",
      "./dataset/genres/disco/disco.00022.au\n",
      "./dataset/genres/disco/disco.00023.au\n",
      "./dataset/genres/disco/disco.00024.au\n",
      "./dataset/genres/disco/disco.00025.au\n",
      "./dataset/genres/disco/disco.00026.au\n",
      "./dataset/genres/disco/disco.00027.au\n",
      "./dataset/genres/disco/disco.00028.au\n",
      "./dataset/genres/disco/disco.00029.au\n"
     ]
    },
    {
     "name": "stderr",
     "output_type": "stream",
     "text": [
      " 33% |#######################                                                 |\r"
     ]
    },
    {
     "name": "stdout",
     "output_type": "stream",
     "text": [
      "./dataset/genres/disco/disco.00030.au\n",
      "./dataset/genres/disco/disco.00031.au\n",
      "./dataset/genres/disco/disco.00032.au\n",
      "./dataset/genres/disco/disco.00033.au\n",
      "./dataset/genres/disco/disco.00034.au\n",
      "./dataset/genres/disco/disco.00035.au\n",
      "./dataset/genres/disco/disco.00036.au\n",
      "./dataset/genres/disco/disco.00037.au\n",
      "./dataset/genres/disco/disco.00038.au\n",
      "./dataset/genres/disco/disco.00039.au\n"
     ]
    },
    {
     "name": "stderr",
     "output_type": "stream",
     "text": [
      " 34% |########################                                                |\r"
     ]
    },
    {
     "name": "stdout",
     "output_type": "stream",
     "text": [
      "./dataset/genres/disco/disco.00040.au\n",
      "./dataset/genres/disco/disco.00041.au\n",
      "./dataset/genres/disco/disco.00042.au\n",
      "./dataset/genres/disco/disco.00043.au\n",
      "./dataset/genres/disco/disco.00044.au\n",
      "./dataset/genres/disco/disco.00045.au\n",
      "./dataset/genres/disco/disco.00046.au\n",
      "./dataset/genres/disco/disco.00047.au\n",
      "./dataset/genres/disco/disco.00048.au\n",
      "./dataset/genres/disco/disco.00049.au\n"
     ]
    },
    {
     "name": "stderr",
     "output_type": "stream",
     "text": [
      " 35% |#########################                                               |\r"
     ]
    },
    {
     "name": "stdout",
     "output_type": "stream",
     "text": [
      "./dataset/genres/disco/disco.00050.au\n",
      "./dataset/genres/disco/disco.00051.au\n",
      "./dataset/genres/disco/disco.00052.au\n",
      "./dataset/genres/disco/disco.00053.au\n",
      "./dataset/genres/disco/disco.00054.au\n",
      "./dataset/genres/disco/disco.00055.au\n",
      "./dataset/genres/disco/disco.00056.au\n",
      "./dataset/genres/disco/disco.00057.au\n",
      "./dataset/genres/disco/disco.00058.au\n",
      "./dataset/genres/disco/disco.00059.au\n"
     ]
    },
    {
     "name": "stderr",
     "output_type": "stream",
     "text": [
      " 36% |#########################                                               |\r"
     ]
    },
    {
     "name": "stdout",
     "output_type": "stream",
     "text": [
      "./dataset/genres/disco/disco.00060.au\n",
      "./dataset/genres/disco/disco.00061.au\n",
      "./dataset/genres/disco/disco.00062.au\n",
      "./dataset/genres/disco/disco.00063.au\n",
      "./dataset/genres/disco/disco.00064.au\n",
      "./dataset/genres/disco/disco.00065.au\n",
      "./dataset/genres/disco/disco.00066.au\n",
      "./dataset/genres/disco/disco.00067.au\n",
      "./dataset/genres/disco/disco.00068.au\n",
      "./dataset/genres/disco/disco.00069.au\n"
     ]
    },
    {
     "name": "stderr",
     "output_type": "stream",
     "text": [
      " 37% |##########################                                              |\r"
     ]
    },
    {
     "name": "stdout",
     "output_type": "stream",
     "text": [
      "./dataset/genres/disco/disco.00070.au\n",
      "./dataset/genres/disco/disco.00071.au\n",
      "./dataset/genres/disco/disco.00072.au\n",
      "./dataset/genres/disco/disco.00073.au\n",
      "./dataset/genres/disco/disco.00074.au\n",
      "./dataset/genres/disco/disco.00075.au\n",
      "./dataset/genres/disco/disco.00076.au\n",
      "./dataset/genres/disco/disco.00077.au\n",
      "./dataset/genres/disco/disco.00078.au\n",
      "./dataset/genres/disco/disco.00079.au\n"
     ]
    },
    {
     "name": "stderr",
     "output_type": "stream",
     "text": [
      " 38% |###########################                                             |\r"
     ]
    },
    {
     "name": "stdout",
     "output_type": "stream",
     "text": [
      "./dataset/genres/disco/disco.00080.au\n",
      "./dataset/genres/disco/disco.00081.au\n",
      "./dataset/genres/disco/disco.00082.au\n",
      "./dataset/genres/disco/disco.00083.au\n",
      "./dataset/genres/disco/disco.00084.au\n",
      "./dataset/genres/disco/disco.00085.au\n",
      "./dataset/genres/disco/disco.00086.au\n",
      "./dataset/genres/disco/disco.00087.au\n",
      "./dataset/genres/disco/disco.00088.au\n",
      "./dataset/genres/disco/disco.00089.au\n"
     ]
    },
    {
     "name": "stderr",
     "output_type": "stream",
     "text": [
      " 39% |############################                                            |\r"
     ]
    },
    {
     "name": "stdout",
     "output_type": "stream",
     "text": [
      "./dataset/genres/disco/disco.00090.au\n",
      "./dataset/genres/disco/disco.00091.au\n",
      "./dataset/genres/disco/disco.00092.au\n",
      "./dataset/genres/disco/disco.00093.au\n",
      "./dataset/genres/disco/disco.00094.au\n",
      "./dataset/genres/disco/disco.00095.au\n",
      "./dataset/genres/disco/disco.00096.au\n",
      "./dataset/genres/disco/disco.00097.au\n",
      "./dataset/genres/disco/disco.00098.au\n",
      "./dataset/genres/disco/disco.00099.au\n"
     ]
    },
    {
     "name": "stderr",
     "output_type": "stream",
     "text": [
      " 40% |############################                                            |\r"
     ]
    },
    {
     "name": "stdout",
     "output_type": "stream",
     "text": [
      "./dataset/genres/hiphop/hiphop.00000.au\n",
      "./dataset/genres/hiphop/hiphop.00001.au\n",
      "./dataset/genres/hiphop/hiphop.00002.au\n",
      "./dataset/genres/hiphop/hiphop.00003.au\n",
      "./dataset/genres/hiphop/hiphop.00004.au\n",
      "./dataset/genres/hiphop/hiphop.00005.au\n",
      "./dataset/genres/hiphop/hiphop.00006.au\n",
      "./dataset/genres/hiphop/hiphop.00007.au\n",
      "./dataset/genres/hiphop/hiphop.00008.au\n",
      "./dataset/genres/hiphop/hiphop.00009.au\n"
     ]
    },
    {
     "name": "stderr",
     "output_type": "stream",
     "text": [
      " 41% |#############################                                           |\r"
     ]
    },
    {
     "name": "stdout",
     "output_type": "stream",
     "text": [
      "./dataset/genres/hiphop/hiphop.00010.au\n",
      "./dataset/genres/hiphop/hiphop.00011.au\n",
      "./dataset/genres/hiphop/hiphop.00012.au\n",
      "./dataset/genres/hiphop/hiphop.00013.au\n",
      "./dataset/genres/hiphop/hiphop.00014.au\n",
      "./dataset/genres/hiphop/hiphop.00015.au\n",
      "./dataset/genres/hiphop/hiphop.00016.au\n",
      "./dataset/genres/hiphop/hiphop.00017.au\n",
      "./dataset/genres/hiphop/hiphop.00018.au\n",
      "./dataset/genres/hiphop/hiphop.00019.au\n"
     ]
    },
    {
     "name": "stderr",
     "output_type": "stream",
     "text": [
      " 42% |##############################                                          |\r"
     ]
    },
    {
     "name": "stdout",
     "output_type": "stream",
     "text": [
      "./dataset/genres/hiphop/hiphop.00020.au\n",
      "./dataset/genres/hiphop/hiphop.00021.au\n",
      "./dataset/genres/hiphop/hiphop.00022.au\n",
      "./dataset/genres/hiphop/hiphop.00023.au\n",
      "./dataset/genres/hiphop/hiphop.00024.au\n",
      "./dataset/genres/hiphop/hiphop.00025.au\n",
      "./dataset/genres/hiphop/hiphop.00026.au\n",
      "./dataset/genres/hiphop/hiphop.00027.au\n",
      "./dataset/genres/hiphop/hiphop.00028.au\n",
      "./dataset/genres/hiphop/hiphop.00029.au\n"
     ]
    },
    {
     "name": "stderr",
     "output_type": "stream",
     "text": [
      " 43% |##############################                                          |\r"
     ]
    },
    {
     "name": "stdout",
     "output_type": "stream",
     "text": [
      "./dataset/genres/hiphop/hiphop.00030.au\n",
      "./dataset/genres/hiphop/hiphop.00031.au\n",
      "./dataset/genres/hiphop/hiphop.00032.au\n",
      "./dataset/genres/hiphop/hiphop.00033.au\n",
      "./dataset/genres/hiphop/hiphop.00034.au\n",
      "./dataset/genres/hiphop/hiphop.00035.au\n",
      "./dataset/genres/hiphop/hiphop.00036.au\n",
      "./dataset/genres/hiphop/hiphop.00037.au\n",
      "./dataset/genres/hiphop/hiphop.00038.au\n",
      "./dataset/genres/hiphop/hiphop.00039.au\n"
     ]
    },
    {
     "name": "stderr",
     "output_type": "stream",
     "text": [
      " 44% |###############################                                         |\r"
     ]
    },
    {
     "name": "stdout",
     "output_type": "stream",
     "text": [
      "./dataset/genres/hiphop/hiphop.00040.au\n",
      "./dataset/genres/hiphop/hiphop.00041.au\n",
      "./dataset/genres/hiphop/hiphop.00042.au\n",
      "./dataset/genres/hiphop/hiphop.00043.au\n",
      "./dataset/genres/hiphop/hiphop.00044.au\n",
      "./dataset/genres/hiphop/hiphop.00045.au\n",
      "./dataset/genres/hiphop/hiphop.00046.au\n",
      "./dataset/genres/hiphop/hiphop.00047.au\n",
      "./dataset/genres/hiphop/hiphop.00048.au\n",
      "./dataset/genres/hiphop/hiphop.00049.au\n"
     ]
    },
    {
     "name": "stderr",
     "output_type": "stream",
     "text": [
      " 45% |################################                                        |\r"
     ]
    },
    {
     "name": "stdout",
     "output_type": "stream",
     "text": [
      "./dataset/genres/hiphop/hiphop.00050.au\n",
      "./dataset/genres/hiphop/hiphop.00051.au\n",
      "./dataset/genres/hiphop/hiphop.00052.au\n",
      "./dataset/genres/hiphop/hiphop.00053.au\n",
      "./dataset/genres/hiphop/hiphop.00054.au\n",
      "./dataset/genres/hiphop/hiphop.00055.au\n",
      "./dataset/genres/hiphop/hiphop.00056.au\n",
      "./dataset/genres/hiphop/hiphop.00057.au\n",
      "./dataset/genres/hiphop/hiphop.00058.au\n",
      "./dataset/genres/hiphop/hiphop.00059.au\n"
     ]
    },
    {
     "name": "stderr",
     "output_type": "stream",
     "text": [
      " 46% |#################################                                       |\r"
     ]
    },
    {
     "name": "stdout",
     "output_type": "stream",
     "text": [
      "./dataset/genres/hiphop/hiphop.00060.au\n",
      "./dataset/genres/hiphop/hiphop.00061.au\n",
      "./dataset/genres/hiphop/hiphop.00062.au\n",
      "./dataset/genres/hiphop/hiphop.00063.au\n",
      "./dataset/genres/hiphop/hiphop.00064.au\n",
      "./dataset/genres/hiphop/hiphop.00065.au\n",
      "./dataset/genres/hiphop/hiphop.00066.au\n",
      "./dataset/genres/hiphop/hiphop.00067.au\n",
      "./dataset/genres/hiphop/hiphop.00068.au\n",
      "./dataset/genres/hiphop/hiphop.00069.au\n"
     ]
    },
    {
     "name": "stderr",
     "output_type": "stream",
     "text": [
      " 47% |#################################                                       |\r"
     ]
    },
    {
     "name": "stdout",
     "output_type": "stream",
     "text": [
      "./dataset/genres/hiphop/hiphop.00070.au\n",
      "./dataset/genres/hiphop/hiphop.00071.au\n",
      "./dataset/genres/hiphop/hiphop.00072.au\n",
      "./dataset/genres/hiphop/hiphop.00073.au\n",
      "./dataset/genres/hiphop/hiphop.00074.au\n",
      "./dataset/genres/hiphop/hiphop.00075.au\n",
      "./dataset/genres/hiphop/hiphop.00076.au\n",
      "./dataset/genres/hiphop/hiphop.00077.au\n",
      "./dataset/genres/hiphop/hiphop.00078.au\n",
      "./dataset/genres/hiphop/hiphop.00079.au\n"
     ]
    },
    {
     "name": "stderr",
     "output_type": "stream",
     "text": [
      " 48% |##################################                                      |\r"
     ]
    },
    {
     "name": "stdout",
     "output_type": "stream",
     "text": [
      "./dataset/genres/hiphop/hiphop.00080.au\n",
      "./dataset/genres/hiphop/hiphop.00081.au\n",
      "./dataset/genres/hiphop/hiphop.00082.au\n",
      "./dataset/genres/hiphop/hiphop.00083.au\n",
      "./dataset/genres/hiphop/hiphop.00084.au\n",
      "./dataset/genres/hiphop/hiphop.00085.au\n",
      "./dataset/genres/hiphop/hiphop.00086.au\n",
      "./dataset/genres/hiphop/hiphop.00087.au\n",
      "./dataset/genres/hiphop/hiphop.00088.au\n",
      "./dataset/genres/hiphop/hiphop.00089.au\n"
     ]
    },
    {
     "name": "stderr",
     "output_type": "stream",
     "text": [
      " 49% |###################################                                     |\r"
     ]
    },
    {
     "name": "stdout",
     "output_type": "stream",
     "text": [
      "./dataset/genres/hiphop/hiphop.00090.au\n",
      "./dataset/genres/hiphop/hiphop.00091.au\n",
      "./dataset/genres/hiphop/hiphop.00092.au\n",
      "./dataset/genres/hiphop/hiphop.00093.au\n",
      "./dataset/genres/hiphop/hiphop.00094.au\n",
      "./dataset/genres/hiphop/hiphop.00095.au\n",
      "./dataset/genres/hiphop/hiphop.00096.au\n",
      "./dataset/genres/hiphop/hiphop.00097.au\n",
      "./dataset/genres/hiphop/hiphop.00098.au\n",
      "./dataset/genres/hiphop/hiphop.00099.au\n"
     ]
    },
    {
     "name": "stderr",
     "output_type": "stream",
     "text": [
      " 50% |####################################                                    |\r"
     ]
    },
    {
     "name": "stdout",
     "output_type": "stream",
     "text": [
      "./dataset/genres/jazz/jazz.00000.au\n",
      "./dataset/genres/jazz/jazz.00001.au\n",
      "./dataset/genres/jazz/jazz.00002.au\n",
      "./dataset/genres/jazz/jazz.00003.au\n",
      "./dataset/genres/jazz/jazz.00004.au\n",
      "./dataset/genres/jazz/jazz.00005.au\n",
      "./dataset/genres/jazz/jazz.00006.au\n",
      "./dataset/genres/jazz/jazz.00007.au\n",
      "./dataset/genres/jazz/jazz.00008.au\n",
      "./dataset/genres/jazz/jazz.00009.au\n"
     ]
    },
    {
     "name": "stderr",
     "output_type": "stream",
     "text": [
      " 51% |####################################                                    |\r"
     ]
    },
    {
     "name": "stdout",
     "output_type": "stream",
     "text": [
      "./dataset/genres/jazz/jazz.00010.au\n",
      "./dataset/genres/jazz/jazz.00011.au\n",
      "./dataset/genres/jazz/jazz.00012.au\n",
      "./dataset/genres/jazz/jazz.00013.au\n",
      "./dataset/genres/jazz/jazz.00014.au\n",
      "./dataset/genres/jazz/jazz.00015.au\n",
      "./dataset/genres/jazz/jazz.00016.au\n",
      "./dataset/genres/jazz/jazz.00017.au\n",
      "./dataset/genres/jazz/jazz.00018.au\n",
      "./dataset/genres/jazz/jazz.00019.au\n"
     ]
    },
    {
     "name": "stderr",
     "output_type": "stream",
     "text": [
      " 52% |#####################################                                   |\r"
     ]
    },
    {
     "name": "stdout",
     "output_type": "stream",
     "text": [
      "./dataset/genres/jazz/jazz.00020.au\n",
      "./dataset/genres/jazz/jazz.00021.au\n",
      "./dataset/genres/jazz/jazz.00022.au\n",
      "./dataset/genres/jazz/jazz.00023.au\n",
      "./dataset/genres/jazz/jazz.00024.au\n",
      "./dataset/genres/jazz/jazz.00025.au\n",
      "./dataset/genres/jazz/jazz.00026.au\n",
      "./dataset/genres/jazz/jazz.00027.au\n",
      "./dataset/genres/jazz/jazz.00028.au\n",
      "./dataset/genres/jazz/jazz.00029.au\n"
     ]
    },
    {
     "name": "stderr",
     "output_type": "stream",
     "text": [
      " 53% |######################################                                  |\r"
     ]
    },
    {
     "name": "stdout",
     "output_type": "stream",
     "text": [
      "./dataset/genres/jazz/jazz.00030.au\n",
      "./dataset/genres/jazz/jazz.00031.au\n",
      "./dataset/genres/jazz/jazz.00032.au\n",
      "./dataset/genres/jazz/jazz.00033.au\n",
      "./dataset/genres/jazz/jazz.00034.au\n",
      "./dataset/genres/jazz/jazz.00035.au\n",
      "./dataset/genres/jazz/jazz.00036.au\n",
      "./dataset/genres/jazz/jazz.00037.au\n",
      "./dataset/genres/jazz/jazz.00038.au\n",
      "./dataset/genres/jazz/jazz.00039.au\n"
     ]
    },
    {
     "name": "stderr",
     "output_type": "stream",
     "text": [
      " 54% |######################################                                  |\r"
     ]
    },
    {
     "name": "stdout",
     "output_type": "stream",
     "text": [
      "./dataset/genres/jazz/jazz.00040.au\n",
      "./dataset/genres/jazz/jazz.00041.au\n",
      "./dataset/genres/jazz/jazz.00042.au\n",
      "./dataset/genres/jazz/jazz.00043.au\n",
      "./dataset/genres/jazz/jazz.00044.au\n",
      "./dataset/genres/jazz/jazz.00045.au\n",
      "./dataset/genres/jazz/jazz.00046.au\n",
      "./dataset/genres/jazz/jazz.00047.au\n",
      "./dataset/genres/jazz/jazz.00048.au\n",
      "./dataset/genres/jazz/jazz.00049.au\n"
     ]
    },
    {
     "name": "stderr",
     "output_type": "stream",
     "text": [
      " 55% |#######################################                                 |\r"
     ]
    },
    {
     "name": "stdout",
     "output_type": "stream",
     "text": [
      "./dataset/genres/jazz/jazz.00050.au\n",
      "./dataset/genres/jazz/jazz.00051.au\n",
      "./dataset/genres/jazz/jazz.00052.au\n",
      "./dataset/genres/jazz/jazz.00053.au\n",
      "./dataset/genres/jazz/jazz.00054.au\n",
      "./dataset/genres/jazz/jazz.00055.au\n",
      "./dataset/genres/jazz/jazz.00056.au\n",
      "./dataset/genres/jazz/jazz.00057.au\n",
      "./dataset/genres/jazz/jazz.00058.au\n",
      "./dataset/genres/jazz/jazz.00059.au\n"
     ]
    },
    {
     "name": "stderr",
     "output_type": "stream",
     "text": [
      " 56% |########################################                                |\r"
     ]
    },
    {
     "name": "stdout",
     "output_type": "stream",
     "text": [
      "./dataset/genres/jazz/jazz.00060.au\n",
      "./dataset/genres/jazz/jazz.00061.au\n",
      "./dataset/genres/jazz/jazz.00062.au\n",
      "./dataset/genres/jazz/jazz.00063.au\n",
      "./dataset/genres/jazz/jazz.00064.au\n",
      "./dataset/genres/jazz/jazz.00065.au\n",
      "./dataset/genres/jazz/jazz.00066.au\n",
      "./dataset/genres/jazz/jazz.00067.au\n",
      "./dataset/genres/jazz/jazz.00068.au\n",
      "./dataset/genres/jazz/jazz.00069.au\n"
     ]
    },
    {
     "name": "stderr",
     "output_type": "stream",
     "text": [
      " 57% |#########################################                               |\r"
     ]
    },
    {
     "name": "stdout",
     "output_type": "stream",
     "text": [
      "./dataset/genres/jazz/jazz.00070.au\n",
      "./dataset/genres/jazz/jazz.00071.au\n",
      "./dataset/genres/jazz/jazz.00072.au\n",
      "./dataset/genres/jazz/jazz.00073.au\n",
      "./dataset/genres/jazz/jazz.00074.au\n",
      "./dataset/genres/jazz/jazz.00075.au\n",
      "./dataset/genres/jazz/jazz.00076.au\n",
      "./dataset/genres/jazz/jazz.00077.au\n",
      "./dataset/genres/jazz/jazz.00078.au\n",
      "./dataset/genres/jazz/jazz.00079.au\n"
     ]
    },
    {
     "name": "stderr",
     "output_type": "stream",
     "text": [
      " 58% |#########################################                               |\r"
     ]
    },
    {
     "name": "stdout",
     "output_type": "stream",
     "text": [
      "./dataset/genres/jazz/jazz.00080.au\n",
      "./dataset/genres/jazz/jazz.00081.au\n",
      "./dataset/genres/jazz/jazz.00082.au\n",
      "./dataset/genres/jazz/jazz.00083.au\n",
      "./dataset/genres/jazz/jazz.00084.au\n",
      "./dataset/genres/jazz/jazz.00085.au\n",
      "./dataset/genres/jazz/jazz.00086.au\n",
      "./dataset/genres/jazz/jazz.00087.au\n",
      "./dataset/genres/jazz/jazz.00088.au\n",
      "./dataset/genres/jazz/jazz.00089.au\n"
     ]
    },
    {
     "name": "stderr",
     "output_type": "stream",
     "text": [
      " 59% |##########################################                              |\r"
     ]
    },
    {
     "name": "stdout",
     "output_type": "stream",
     "text": [
      "./dataset/genres/jazz/jazz.00090.au\n",
      "./dataset/genres/jazz/jazz.00091.au\n",
      "./dataset/genres/jazz/jazz.00092.au\n",
      "./dataset/genres/jazz/jazz.00093.au\n",
      "./dataset/genres/jazz/jazz.00094.au\n",
      "./dataset/genres/jazz/jazz.00095.au\n",
      "./dataset/genres/jazz/jazz.00096.au\n",
      "./dataset/genres/jazz/jazz.00097.au\n",
      "./dataset/genres/jazz/jazz.00098.au\n",
      "./dataset/genres/jazz/jazz.00099.au\n"
     ]
    },
    {
     "name": "stderr",
     "output_type": "stream",
     "text": [
      " 60% |###########################################                             |\r"
     ]
    },
    {
     "name": "stdout",
     "output_type": "stream",
     "text": [
      "./dataset/genres/metal/metal.00000.au\n",
      "./dataset/genres/metal/metal.00001.au\n",
      "./dataset/genres/metal/metal.00002.au\n",
      "./dataset/genres/metal/metal.00003.au\n",
      "./dataset/genres/metal/metal.00004.au\n",
      "./dataset/genres/metal/metal.00005.au\n",
      "./dataset/genres/metal/metal.00006.au\n",
      "./dataset/genres/metal/metal.00007.au\n",
      "./dataset/genres/metal/metal.00008.au\n",
      "./dataset/genres/metal/metal.00009.au\n"
     ]
    },
    {
     "name": "stderr",
     "output_type": "stream",
     "text": [
      " 61% |###########################################                             |\r"
     ]
    },
    {
     "name": "stdout",
     "output_type": "stream",
     "text": [
      "./dataset/genres/metal/metal.00010.au\n",
      "./dataset/genres/metal/metal.00011.au\n",
      "./dataset/genres/metal/metal.00012.au\n",
      "./dataset/genres/metal/metal.00013.au\n",
      "./dataset/genres/metal/metal.00014.au\n",
      "./dataset/genres/metal/metal.00015.au\n",
      "./dataset/genres/metal/metal.00016.au\n",
      "./dataset/genres/metal/metal.00017.au\n",
      "./dataset/genres/metal/metal.00018.au\n",
      "./dataset/genres/metal/metal.00019.au\n"
     ]
    },
    {
     "name": "stderr",
     "output_type": "stream",
     "text": [
      " 62% |############################################                            |\r"
     ]
    },
    {
     "name": "stdout",
     "output_type": "stream",
     "text": [
      "./dataset/genres/metal/metal.00020.au\n",
      "./dataset/genres/metal/metal.00021.au\n",
      "./dataset/genres/metal/metal.00022.au\n",
      "./dataset/genres/metal/metal.00023.au\n",
      "./dataset/genres/metal/metal.00024.au\n",
      "./dataset/genres/metal/metal.00025.au\n",
      "./dataset/genres/metal/metal.00026.au\n",
      "./dataset/genres/metal/metal.00027.au\n",
      "./dataset/genres/metal/metal.00028.au\n",
      "./dataset/genres/metal/metal.00029.au\n"
     ]
    },
    {
     "name": "stderr",
     "output_type": "stream",
     "text": [
      " 63% |#############################################                           |\r"
     ]
    },
    {
     "name": "stdout",
     "output_type": "stream",
     "text": [
      "./dataset/genres/metal/metal.00030.au\n",
      "./dataset/genres/metal/metal.00031.au\n",
      "./dataset/genres/metal/metal.00032.au\n",
      "./dataset/genres/metal/metal.00033.au\n",
      "./dataset/genres/metal/metal.00034.au\n",
      "./dataset/genres/metal/metal.00035.au\n",
      "./dataset/genres/metal/metal.00036.au\n",
      "./dataset/genres/metal/metal.00037.au\n",
      "./dataset/genres/metal/metal.00038.au\n",
      "./dataset/genres/metal/metal.00039.au\n"
     ]
    },
    {
     "name": "stderr",
     "output_type": "stream",
     "text": [
      " 64% |##############################################                          |\r"
     ]
    },
    {
     "name": "stdout",
     "output_type": "stream",
     "text": [
      "./dataset/genres/metal/metal.00040.au\n",
      "./dataset/genres/metal/metal.00041.au\n",
      "./dataset/genres/metal/metal.00042.au\n",
      "./dataset/genres/metal/metal.00043.au\n",
      "./dataset/genres/metal/metal.00044.au\n",
      "./dataset/genres/metal/metal.00045.au\n",
      "./dataset/genres/metal/metal.00046.au\n",
      "./dataset/genres/metal/metal.00047.au\n",
      "./dataset/genres/metal/metal.00048.au\n",
      "./dataset/genres/metal/metal.00049.au\n"
     ]
    },
    {
     "name": "stderr",
     "output_type": "stream",
     "text": [
      " 65% |##############################################                          |\r"
     ]
    },
    {
     "name": "stdout",
     "output_type": "stream",
     "text": [
      "./dataset/genres/metal/metal.00050.au\n",
      "./dataset/genres/metal/metal.00051.au\n",
      "./dataset/genres/metal/metal.00052.au\n",
      "./dataset/genres/metal/metal.00053.au\n",
      "./dataset/genres/metal/metal.00054.au\n",
      "./dataset/genres/metal/metal.00055.au\n",
      "./dataset/genres/metal/metal.00056.au\n",
      "./dataset/genres/metal/metal.00057.au\n",
      "./dataset/genres/metal/metal.00058.au\n",
      "./dataset/genres/metal/metal.00059.au\n"
     ]
    },
    {
     "name": "stderr",
     "output_type": "stream",
     "text": [
      " 66% |###############################################                         |\r"
     ]
    },
    {
     "name": "stdout",
     "output_type": "stream",
     "text": [
      "./dataset/genres/metal/metal.00060.au\n",
      "./dataset/genres/metal/metal.00061.au\n",
      "./dataset/genres/metal/metal.00062.au\n",
      "./dataset/genres/metal/metal.00063.au\n",
      "./dataset/genres/metal/metal.00064.au\n",
      "./dataset/genres/metal/metal.00065.au\n",
      "./dataset/genres/metal/metal.00066.au\n",
      "./dataset/genres/metal/metal.00067.au\n",
      "./dataset/genres/metal/metal.00068.au\n",
      "./dataset/genres/metal/metal.00069.au\n"
     ]
    },
    {
     "name": "stderr",
     "output_type": "stream",
     "text": [
      " 67% |################################################                        |\r"
     ]
    },
    {
     "name": "stdout",
     "output_type": "stream",
     "text": [
      "./dataset/genres/metal/metal.00070.au\n",
      "./dataset/genres/metal/metal.00071.au\n",
      "./dataset/genres/metal/metal.00072.au\n",
      "./dataset/genres/metal/metal.00073.au\n",
      "./dataset/genres/metal/metal.00074.au\n",
      "./dataset/genres/metal/metal.00075.au\n",
      "./dataset/genres/metal/metal.00076.au\n",
      "./dataset/genres/metal/metal.00077.au\n",
      "./dataset/genres/metal/metal.00078.au\n",
      "./dataset/genres/metal/metal.00079.au\n"
     ]
    },
    {
     "name": "stderr",
     "output_type": "stream",
     "text": [
      " 68% |################################################                        |\r"
     ]
    },
    {
     "name": "stdout",
     "output_type": "stream",
     "text": [
      "./dataset/genres/metal/metal.00080.au\n",
      "./dataset/genres/metal/metal.00081.au\n",
      "./dataset/genres/metal/metal.00082.au\n",
      "./dataset/genres/metal/metal.00083.au\n",
      "./dataset/genres/metal/metal.00084.au\n",
      "./dataset/genres/metal/metal.00085.au\n",
      "./dataset/genres/metal/metal.00086.au\n",
      "./dataset/genres/metal/metal.00087.au\n",
      "./dataset/genres/metal/metal.00088.au\n",
      "./dataset/genres/metal/metal.00089.au\n"
     ]
    },
    {
     "name": "stderr",
     "output_type": "stream",
     "text": [
      " 69% |#################################################                       |\r"
     ]
    },
    {
     "name": "stdout",
     "output_type": "stream",
     "text": [
      "./dataset/genres/metal/metal.00090.au\n",
      "./dataset/genres/metal/metal.00091.au\n",
      "./dataset/genres/metal/metal.00092.au\n",
      "./dataset/genres/metal/metal.00093.au\n",
      "./dataset/genres/metal/metal.00094.au\n",
      "./dataset/genres/metal/metal.00095.au\n",
      "./dataset/genres/metal/metal.00096.au\n",
      "./dataset/genres/metal/metal.00097.au\n",
      "./dataset/genres/metal/metal.00098.au\n",
      "./dataset/genres/metal/metal.00099.au\n"
     ]
    },
    {
     "name": "stderr",
     "output_type": "stream",
     "text": [
      " 70% |##################################################                      |\r"
     ]
    },
    {
     "name": "stdout",
     "output_type": "stream",
     "text": [
      "./dataset/genres/pop/pop.00000.au\n",
      "./dataset/genres/pop/pop.00001.au\n",
      "./dataset/genres/pop/pop.00002.au\n",
      "./dataset/genres/pop/pop.00003.au\n",
      "./dataset/genres/pop/pop.00004.au\n",
      "./dataset/genres/pop/pop.00005.au\n",
      "./dataset/genres/pop/pop.00006.au\n",
      "./dataset/genres/pop/pop.00007.au\n",
      "./dataset/genres/pop/pop.00008.au\n",
      "./dataset/genres/pop/pop.00009.au\n"
     ]
    },
    {
     "name": "stderr",
     "output_type": "stream",
     "text": [
      " 71% |###################################################                     |\r"
     ]
    },
    {
     "name": "stdout",
     "output_type": "stream",
     "text": [
      "./dataset/genres/pop/pop.00010.au\n",
      "./dataset/genres/pop/pop.00011.au\n",
      "./dataset/genres/pop/pop.00012.au\n",
      "./dataset/genres/pop/pop.00013.au\n",
      "./dataset/genres/pop/pop.00014.au\n",
      "./dataset/genres/pop/pop.00015.au\n",
      "./dataset/genres/pop/pop.00016.au\n",
      "./dataset/genres/pop/pop.00017.au\n",
      "./dataset/genres/pop/pop.00018.au\n",
      "./dataset/genres/pop/pop.00019.au\n"
     ]
    },
    {
     "name": "stderr",
     "output_type": "stream",
     "text": [
      " 72% |###################################################                     |\r"
     ]
    },
    {
     "name": "stdout",
     "output_type": "stream",
     "text": [
      "./dataset/genres/pop/pop.00020.au\n",
      "./dataset/genres/pop/pop.00021.au\n",
      "./dataset/genres/pop/pop.00022.au\n",
      "./dataset/genres/pop/pop.00023.au\n",
      "./dataset/genres/pop/pop.00024.au\n",
      "./dataset/genres/pop/pop.00025.au\n",
      "./dataset/genres/pop/pop.00026.au\n",
      "./dataset/genres/pop/pop.00027.au\n",
      "./dataset/genres/pop/pop.00028.au\n",
      "./dataset/genres/pop/pop.00029.au\n"
     ]
    },
    {
     "name": "stderr",
     "output_type": "stream",
     "text": [
      " 73% |####################################################                    |\r"
     ]
    },
    {
     "name": "stdout",
     "output_type": "stream",
     "text": [
      "./dataset/genres/pop/pop.00030.au\n",
      "./dataset/genres/pop/pop.00031.au\n",
      "./dataset/genres/pop/pop.00032.au\n",
      "./dataset/genres/pop/pop.00033.au\n",
      "./dataset/genres/pop/pop.00034.au\n",
      "./dataset/genres/pop/pop.00035.au\n",
      "./dataset/genres/pop/pop.00036.au\n",
      "./dataset/genres/pop/pop.00037.au\n",
      "./dataset/genres/pop/pop.00038.au\n",
      "./dataset/genres/pop/pop.00039.au\n"
     ]
    },
    {
     "name": "stderr",
     "output_type": "stream",
     "text": [
      " 74% |#####################################################                   |\r"
     ]
    },
    {
     "name": "stdout",
     "output_type": "stream",
     "text": [
      "./dataset/genres/pop/pop.00040.au\n",
      "./dataset/genres/pop/pop.00041.au\n",
      "./dataset/genres/pop/pop.00042.au\n",
      "./dataset/genres/pop/pop.00043.au\n",
      "./dataset/genres/pop/pop.00044.au\n",
      "./dataset/genres/pop/pop.00045.au\n",
      "./dataset/genres/pop/pop.00046.au\n",
      "./dataset/genres/pop/pop.00047.au\n",
      "./dataset/genres/pop/pop.00048.au\n",
      "./dataset/genres/pop/pop.00049.au\n"
     ]
    },
    {
     "name": "stderr",
     "output_type": "stream",
     "text": [
      " 75% |######################################################                  |\r"
     ]
    },
    {
     "name": "stdout",
     "output_type": "stream",
     "text": [
      "./dataset/genres/pop/pop.00050.au\n",
      "./dataset/genres/pop/pop.00051.au\n",
      "./dataset/genres/pop/pop.00052.au\n",
      "./dataset/genres/pop/pop.00053.au\n",
      "./dataset/genres/pop/pop.00054.au\n",
      "./dataset/genres/pop/pop.00055.au\n",
      "./dataset/genres/pop/pop.00056.au\n",
      "./dataset/genres/pop/pop.00057.au\n",
      "./dataset/genres/pop/pop.00058.au\n",
      "./dataset/genres/pop/pop.00059.au\n"
     ]
    },
    {
     "name": "stderr",
     "output_type": "stream",
     "text": [
      " 76% |######################################################                  |\r"
     ]
    },
    {
     "name": "stdout",
     "output_type": "stream",
     "text": [
      "./dataset/genres/pop/pop.00060.au\n",
      "./dataset/genres/pop/pop.00061.au\n",
      "./dataset/genres/pop/pop.00062.au\n",
      "./dataset/genres/pop/pop.00063.au\n",
      "./dataset/genres/pop/pop.00064.au\n",
      "./dataset/genres/pop/pop.00065.au\n",
      "./dataset/genres/pop/pop.00066.au\n",
      "./dataset/genres/pop/pop.00067.au\n",
      "./dataset/genres/pop/pop.00068.au\n",
      "./dataset/genres/pop/pop.00069.au\n"
     ]
    },
    {
     "name": "stderr",
     "output_type": "stream",
     "text": [
      " 77% |#######################################################                 |\r"
     ]
    },
    {
     "name": "stdout",
     "output_type": "stream",
     "text": [
      "./dataset/genres/pop/pop.00070.au\n",
      "./dataset/genres/pop/pop.00071.au\n",
      "./dataset/genres/pop/pop.00072.au\n",
      "./dataset/genres/pop/pop.00073.au\n",
      "./dataset/genres/pop/pop.00074.au\n",
      "./dataset/genres/pop/pop.00075.au\n",
      "./dataset/genres/pop/pop.00076.au\n",
      "./dataset/genres/pop/pop.00077.au\n",
      "./dataset/genres/pop/pop.00078.au\n",
      "./dataset/genres/pop/pop.00079.au\n"
     ]
    },
    {
     "name": "stderr",
     "output_type": "stream",
     "text": [
      " 78% |########################################################                |\r"
     ]
    },
    {
     "name": "stdout",
     "output_type": "stream",
     "text": [
      "./dataset/genres/pop/pop.00080.au\n",
      "./dataset/genres/pop/pop.00081.au\n",
      "./dataset/genres/pop/pop.00082.au\n",
      "./dataset/genres/pop/pop.00083.au\n",
      "./dataset/genres/pop/pop.00084.au\n",
      "./dataset/genres/pop/pop.00085.au\n",
      "./dataset/genres/pop/pop.00086.au\n",
      "./dataset/genres/pop/pop.00087.au\n",
      "./dataset/genres/pop/pop.00088.au\n",
      "./dataset/genres/pop/pop.00089.au\n"
     ]
    },
    {
     "name": "stderr",
     "output_type": "stream",
     "text": [
      " 79% |########################################################                |\r"
     ]
    },
    {
     "name": "stdout",
     "output_type": "stream",
     "text": [
      "./dataset/genres/pop/pop.00090.au\n",
      "./dataset/genres/pop/pop.00091.au\n",
      "./dataset/genres/pop/pop.00092.au\n",
      "./dataset/genres/pop/pop.00093.au\n",
      "./dataset/genres/pop/pop.00094.au\n",
      "./dataset/genres/pop/pop.00095.au\n",
      "./dataset/genres/pop/pop.00096.au\n",
      "./dataset/genres/pop/pop.00097.au\n",
      "./dataset/genres/pop/pop.00098.au\n",
      "./dataset/genres/pop/pop.00099.au\n"
     ]
    },
    {
     "name": "stderr",
     "output_type": "stream",
     "text": [
      " 80% |#########################################################               |\r"
     ]
    },
    {
     "name": "stdout",
     "output_type": "stream",
     "text": [
      "./dataset/genres/reggae/reggae.00000.au\n",
      "./dataset/genres/reggae/reggae.00001.au\n",
      "./dataset/genres/reggae/reggae.00002.au\n",
      "./dataset/genres/reggae/reggae.00003.au\n",
      "./dataset/genres/reggae/reggae.00004.au\n",
      "./dataset/genres/reggae/reggae.00005.au\n",
      "./dataset/genres/reggae/reggae.00006.au\n",
      "./dataset/genres/reggae/reggae.00007.au\n",
      "./dataset/genres/reggae/reggae.00008.au\n",
      "./dataset/genres/reggae/reggae.00009.au\n"
     ]
    },
    {
     "name": "stderr",
     "output_type": "stream",
     "text": [
      " 81% |##########################################################              |\r"
     ]
    },
    {
     "name": "stdout",
     "output_type": "stream",
     "text": [
      "./dataset/genres/reggae/reggae.00010.au\n",
      "./dataset/genres/reggae/reggae.00011.au\n",
      "./dataset/genres/reggae/reggae.00012.au\n",
      "./dataset/genres/reggae/reggae.00013.au\n",
      "./dataset/genres/reggae/reggae.00014.au\n",
      "./dataset/genres/reggae/reggae.00015.au\n",
      "./dataset/genres/reggae/reggae.00016.au\n",
      "./dataset/genres/reggae/reggae.00017.au\n",
      "./dataset/genres/reggae/reggae.00018.au\n",
      "./dataset/genres/reggae/reggae.00019.au\n"
     ]
    },
    {
     "name": "stderr",
     "output_type": "stream",
     "text": [
      " 82% |###########################################################             |\r"
     ]
    },
    {
     "name": "stdout",
     "output_type": "stream",
     "text": [
      "./dataset/genres/reggae/reggae.00020.au\n",
      "./dataset/genres/reggae/reggae.00021.au\n",
      "./dataset/genres/reggae/reggae.00022.au\n",
      "./dataset/genres/reggae/reggae.00023.au\n",
      "./dataset/genres/reggae/reggae.00024.au\n",
      "./dataset/genres/reggae/reggae.00025.au\n",
      "./dataset/genres/reggae/reggae.00026.au\n",
      "./dataset/genres/reggae/reggae.00027.au\n",
      "./dataset/genres/reggae/reggae.00028.au\n",
      "./dataset/genres/reggae/reggae.00029.au\n"
     ]
    },
    {
     "name": "stderr",
     "output_type": "stream",
     "text": [
      " 83% |###########################################################             |\r"
     ]
    },
    {
     "name": "stdout",
     "output_type": "stream",
     "text": [
      "./dataset/genres/reggae/reggae.00030.au\n",
      "./dataset/genres/reggae/reggae.00031.au\n",
      "./dataset/genres/reggae/reggae.00032.au\n",
      "./dataset/genres/reggae/reggae.00033.au\n",
      "./dataset/genres/reggae/reggae.00034.au\n",
      "./dataset/genres/reggae/reggae.00035.au\n",
      "./dataset/genres/reggae/reggae.00036.au\n",
      "./dataset/genres/reggae/reggae.00037.au\n",
      "./dataset/genres/reggae/reggae.00038.au\n",
      "./dataset/genres/reggae/reggae.00039.au\n"
     ]
    },
    {
     "name": "stderr",
     "output_type": "stream",
     "text": [
      " 84% |############################################################            |\r"
     ]
    },
    {
     "name": "stdout",
     "output_type": "stream",
     "text": [
      "./dataset/genres/reggae/reggae.00040.au\n",
      "./dataset/genres/reggae/reggae.00041.au\n",
      "./dataset/genres/reggae/reggae.00042.au\n",
      "./dataset/genres/reggae/reggae.00043.au\n",
      "./dataset/genres/reggae/reggae.00044.au\n",
      "./dataset/genres/reggae/reggae.00045.au\n",
      "./dataset/genres/reggae/reggae.00046.au\n",
      "./dataset/genres/reggae/reggae.00047.au\n",
      "./dataset/genres/reggae/reggae.00048.au\n",
      "./dataset/genres/reggae/reggae.00049.au\n"
     ]
    },
    {
     "name": "stderr",
     "output_type": "stream",
     "text": [
      " 85% |#############################################################           |\r"
     ]
    },
    {
     "name": "stdout",
     "output_type": "stream",
     "text": [
      "./dataset/genres/reggae/reggae.00050.au\n",
      "./dataset/genres/reggae/reggae.00051.au\n",
      "./dataset/genres/reggae/reggae.00052.au\n",
      "./dataset/genres/reggae/reggae.00053.au\n",
      "./dataset/genres/reggae/reggae.00054.au\n",
      "./dataset/genres/reggae/reggae.00055.au\n",
      "./dataset/genres/reggae/reggae.00056.au\n",
      "./dataset/genres/reggae/reggae.00057.au\n",
      "./dataset/genres/reggae/reggae.00058.au\n",
      "./dataset/genres/reggae/reggae.00059.au\n"
     ]
    },
    {
     "name": "stderr",
     "output_type": "stream",
     "text": [
      " 86% |#############################################################           |\r"
     ]
    },
    {
     "name": "stdout",
     "output_type": "stream",
     "text": [
      "./dataset/genres/reggae/reggae.00060.au\n",
      "./dataset/genres/reggae/reggae.00061.au\n",
      "./dataset/genres/reggae/reggae.00062.au\n",
      "./dataset/genres/reggae/reggae.00063.au\n",
      "./dataset/genres/reggae/reggae.00064.au\n",
      "./dataset/genres/reggae/reggae.00065.au\n",
      "./dataset/genres/reggae/reggae.00066.au\n",
      "./dataset/genres/reggae/reggae.00067.au\n",
      "./dataset/genres/reggae/reggae.00068.au\n",
      "./dataset/genres/reggae/reggae.00069.au\n"
     ]
    },
    {
     "name": "stderr",
     "output_type": "stream",
     "text": [
      " 87% |##############################################################          |\r"
     ]
    },
    {
     "name": "stdout",
     "output_type": "stream",
     "text": [
      "./dataset/genres/reggae/reggae.00070.au\n",
      "./dataset/genres/reggae/reggae.00071.au\n",
      "./dataset/genres/reggae/reggae.00072.au\n",
      "./dataset/genres/reggae/reggae.00073.au\n",
      "./dataset/genres/reggae/reggae.00074.au\n",
      "./dataset/genres/reggae/reggae.00075.au\n",
      "./dataset/genres/reggae/reggae.00076.au\n",
      "./dataset/genres/reggae/reggae.00077.au\n",
      "./dataset/genres/reggae/reggae.00078.au\n",
      "./dataset/genres/reggae/reggae.00079.au\n"
     ]
    },
    {
     "name": "stderr",
     "output_type": "stream",
     "text": [
      " 88% |###############################################################         |\r"
     ]
    },
    {
     "name": "stdout",
     "output_type": "stream",
     "text": [
      "./dataset/genres/reggae/reggae.00080.au\n",
      "./dataset/genres/reggae/reggae.00081.au\n",
      "./dataset/genres/reggae/reggae.00082.au\n",
      "./dataset/genres/reggae/reggae.00083.au\n",
      "./dataset/genres/reggae/reggae.00084.au\n",
      "./dataset/genres/reggae/reggae.00085.au\n",
      "./dataset/genres/reggae/reggae.00086.au\n",
      "./dataset/genres/reggae/reggae.00087.au\n",
      "./dataset/genres/reggae/reggae.00088.au\n",
      "./dataset/genres/reggae/reggae.00089.au\n"
     ]
    },
    {
     "name": "stderr",
     "output_type": "stream",
     "text": [
      " 89% |################################################################        |\r"
     ]
    },
    {
     "name": "stdout",
     "output_type": "stream",
     "text": [
      "./dataset/genres/reggae/reggae.00090.au\n",
      "./dataset/genres/reggae/reggae.00091.au\n",
      "./dataset/genres/reggae/reggae.00092.au\n",
      "./dataset/genres/reggae/reggae.00093.au\n",
      "./dataset/genres/reggae/reggae.00094.au\n",
      "./dataset/genres/reggae/reggae.00095.au\n",
      "./dataset/genres/reggae/reggae.00096.au\n",
      "./dataset/genres/reggae/reggae.00097.au\n",
      "./dataset/genres/reggae/reggae.00098.au\n",
      "./dataset/genres/reggae/reggae.00099.au\n"
     ]
    },
    {
     "name": "stderr",
     "output_type": "stream",
     "text": [
      " 90% |################################################################        |\r"
     ]
    },
    {
     "name": "stdout",
     "output_type": "stream",
     "text": [
      "./dataset/genres/rock/rock.00000.au\n",
      "./dataset/genres/rock/rock.00001.au\n",
      "./dataset/genres/rock/rock.00002.au\n",
      "./dataset/genres/rock/rock.00003.au\n",
      "./dataset/genres/rock/rock.00004.au\n",
      "./dataset/genres/rock/rock.00005.au\n",
      "./dataset/genres/rock/rock.00006.au\n",
      "./dataset/genres/rock/rock.00007.au\n",
      "./dataset/genres/rock/rock.00008.au\n",
      "./dataset/genres/rock/rock.00009.au\n"
     ]
    },
    {
     "name": "stderr",
     "output_type": "stream",
     "text": [
      " 91% |#################################################################       |\r"
     ]
    },
    {
     "name": "stdout",
     "output_type": "stream",
     "text": [
      "./dataset/genres/rock/rock.00010.au\n",
      "./dataset/genres/rock/rock.00011.au\n",
      "./dataset/genres/rock/rock.00012.au\n",
      "./dataset/genres/rock/rock.00013.au\n",
      "./dataset/genres/rock/rock.00014.au\n",
      "./dataset/genres/rock/rock.00015.au\n",
      "./dataset/genres/rock/rock.00016.au\n",
      "./dataset/genres/rock/rock.00017.au\n",
      "./dataset/genres/rock/rock.00018.au\n",
      "./dataset/genres/rock/rock.00019.au\n"
     ]
    },
    {
     "name": "stderr",
     "output_type": "stream",
     "text": [
      " 92% |##################################################################      |\r"
     ]
    },
    {
     "name": "stdout",
     "output_type": "stream",
     "text": [
      "./dataset/genres/rock/rock.00020.au\n",
      "./dataset/genres/rock/rock.00021.au\n",
      "./dataset/genres/rock/rock.00022.au\n",
      "./dataset/genres/rock/rock.00023.au\n",
      "./dataset/genres/rock/rock.00024.au\n",
      "./dataset/genres/rock/rock.00025.au\n",
      "./dataset/genres/rock/rock.00026.au\n",
      "./dataset/genres/rock/rock.00027.au\n",
      "./dataset/genres/rock/rock.00028.au\n",
      "./dataset/genres/rock/rock.00029.au\n"
     ]
    },
    {
     "name": "stderr",
     "output_type": "stream",
     "text": [
      " 93% |##################################################################      |\r"
     ]
    },
    {
     "name": "stdout",
     "output_type": "stream",
     "text": [
      "./dataset/genres/rock/rock.00030.au\n",
      "./dataset/genres/rock/rock.00031.au\n",
      "./dataset/genres/rock/rock.00032.au\n",
      "./dataset/genres/rock/rock.00033.au\n",
      "./dataset/genres/rock/rock.00034.au\n",
      "./dataset/genres/rock/rock.00035.au\n",
      "./dataset/genres/rock/rock.00036.au\n",
      "./dataset/genres/rock/rock.00037.au\n",
      "./dataset/genres/rock/rock.00038.au\n",
      "./dataset/genres/rock/rock.00039.au\n"
     ]
    },
    {
     "name": "stderr",
     "output_type": "stream",
     "text": [
      " 94% |###################################################################     |\r"
     ]
    },
    {
     "name": "stdout",
     "output_type": "stream",
     "text": [
      "./dataset/genres/rock/rock.00040.au\n",
      "./dataset/genres/rock/rock.00041.au\n",
      "./dataset/genres/rock/rock.00042.au\n",
      "./dataset/genres/rock/rock.00043.au\n",
      "./dataset/genres/rock/rock.00044.au\n",
      "./dataset/genres/rock/rock.00045.au\n",
      "./dataset/genres/rock/rock.00046.au\n",
      "./dataset/genres/rock/rock.00047.au\n",
      "./dataset/genres/rock/rock.00048.au\n",
      "./dataset/genres/rock/rock.00049.au\n"
     ]
    },
    {
     "name": "stderr",
     "output_type": "stream",
     "text": [
      " 95% |####################################################################    |\r"
     ]
    },
    {
     "name": "stdout",
     "output_type": "stream",
     "text": [
      "./dataset/genres/rock/rock.00050.au\n",
      "./dataset/genres/rock/rock.00051.au\n",
      "./dataset/genres/rock/rock.00052.au\n",
      "./dataset/genres/rock/rock.00053.au\n",
      "./dataset/genres/rock/rock.00054.au\n",
      "./dataset/genres/rock/rock.00055.au\n",
      "./dataset/genres/rock/rock.00056.au\n",
      "./dataset/genres/rock/rock.00057.au\n",
      "./dataset/genres/rock/rock.00058.au\n",
      "./dataset/genres/rock/rock.00059.au\n"
     ]
    },
    {
     "name": "stderr",
     "output_type": "stream",
     "text": [
      " 96% |#####################################################################   |\r"
     ]
    },
    {
     "name": "stdout",
     "output_type": "stream",
     "text": [
      "./dataset/genres/rock/rock.00060.au\n",
      "./dataset/genres/rock/rock.00061.au\n",
      "./dataset/genres/rock/rock.00062.au\n",
      "./dataset/genres/rock/rock.00063.au\n",
      "./dataset/genres/rock/rock.00064.au\n",
      "./dataset/genres/rock/rock.00065.au\n",
      "./dataset/genres/rock/rock.00066.au\n",
      "./dataset/genres/rock/rock.00067.au\n",
      "./dataset/genres/rock/rock.00068.au\n",
      "./dataset/genres/rock/rock.00069.au\n"
     ]
    },
    {
     "name": "stderr",
     "output_type": "stream",
     "text": [
      " 97% |#####################################################################   |\r"
     ]
    },
    {
     "name": "stdout",
     "output_type": "stream",
     "text": [
      "./dataset/genres/rock/rock.00070.au\n",
      "./dataset/genres/rock/rock.00071.au\n",
      "./dataset/genres/rock/rock.00072.au\n",
      "./dataset/genres/rock/rock.00073.au\n",
      "./dataset/genres/rock/rock.00074.au\n",
      "./dataset/genres/rock/rock.00075.au\n",
      "./dataset/genres/rock/rock.00076.au\n",
      "./dataset/genres/rock/rock.00077.au\n",
      "./dataset/genres/rock/rock.00078.au\n",
      "./dataset/genres/rock/rock.00079.au\n"
     ]
    },
    {
     "name": "stderr",
     "output_type": "stream",
     "text": [
      " 98% |######################################################################  |\r"
     ]
    },
    {
     "name": "stdout",
     "output_type": "stream",
     "text": [
      "./dataset/genres/rock/rock.00080.au\n",
      "./dataset/genres/rock/rock.00081.au\n",
      "./dataset/genres/rock/rock.00082.au\n",
      "./dataset/genres/rock/rock.00083.au\n",
      "./dataset/genres/rock/rock.00084.au\n",
      "./dataset/genres/rock/rock.00085.au\n",
      "./dataset/genres/rock/rock.00086.au\n",
      "./dataset/genres/rock/rock.00087.au\n",
      "./dataset/genres/rock/rock.00088.au\n",
      "./dataset/genres/rock/rock.00089.au\n"
     ]
    },
    {
     "name": "stderr",
     "output_type": "stream",
     "text": [
      " 99% |####################################################################### |\r"
     ]
    },
    {
     "name": "stdout",
     "output_type": "stream",
     "text": [
      "./dataset/genres/rock/rock.00090.au\n",
      "./dataset/genres/rock/rock.00091.au\n",
      "./dataset/genres/rock/rock.00092.au\n",
      "./dataset/genres/rock/rock.00093.au\n",
      "./dataset/genres/rock/rock.00094.au\n",
      "./dataset/genres/rock/rock.00095.au\n",
      "./dataset/genres/rock/rock.00096.au\n",
      "./dataset/genres/rock/rock.00097.au\n",
      "./dataset/genres/rock/rock.00098.au\n",
      "./dataset/genres/rock/rock.00099.au\n"
     ]
    },
    {
     "name": "stderr",
     "output_type": "stream",
     "text": [
      "100% |########################################################################|\r\n"
     ]
    }
   ],
   "source": [
    "# Fill these lists with values\n",
    "audio_features = {}\n",
    "audio_features[\"mfcc\"]   = []\n",
    "audio_features[\"chroma\"] = []\n",
    "audio_features[\"ssd\"]    = []\n",
    "audio_features[\"rp\"]     = []\n",
    "\n",
    "# progressbar visualization widget to estimate processing time\n",
    "pbar = progressbar.ProgressBar()\n",
    "\n",
    "# iterate over all files of the collection\n",
    "for audio_filename in pbar(filenames):\n",
    "    \n",
    "    # 1. load audio\n",
    "    print audio_filename\n",
    "    y, sr = librosa.core.load(path=audio_filename, mono=True)\n",
    "    # 2. extract features\n",
    "    # - 2.1. mfcc\n",
    "    mfcc = librosa.feature.mfcc(y=y, sr=sr, n_mfcc=12, n_fft=1024, hop_length=512)\n",
    "    # - 2.2. chroma\n",
    "    chroma = librosa.feature.chroma_stft(y=y, sr=sr, n_fft=1024, hop_length=512)\n",
    "    # -- 2.3. aggregate frame based mfcc and chroma vectors into single feature vectors\n",
    "    mfcc_means = [np.mean(frame) for frame in mfcc]\n",
    "    mfcc_stds = [np.std(frame) for frame in mfcc]\n",
    "    mfcc = np.concatenate([mfcc_means, mfcc_stds])\n",
    "    \n",
    "    chroma_means = [np.mean(frame) for frame in chroma]\n",
    "    chroma_stds = [np.std(frame) for frame in chroma]\n",
    "    chroma = np.concatenate([chroma_means, chroma_stds])\n",
    "    # - 2.4. ssd, rp\n",
    "    rp_features = rp_extract(y, \n",
    "                              sr, \n",
    "                              extract_ssd = True, \n",
    "                              extract_rp  = True,\n",
    "                              skip_leadin_fadeout = 0, \n",
    "                              verbose     = False)\n",
    "    \n",
    "    # 3. append to provided lists\n",
    "    audio_features[\"mfcc\"].append(mfcc)\n",
    "    audio_features[\"chroma\"].append(chroma)\n",
    "    audio_features[\"ssd\"].append(rp_features['ssd'])\n",
    "    audio_features[\"rp\"].append(rp_features['rp'])\n",
    "    \n",
    "# # 4. convert lists of vectors to numpy arrays\n",
    "for key, feature_list in audio_features.items():\n",
    "    audio_features[key] = np.asarray(feature_list)"
   ]
  },
  {
   "cell_type": "markdown",
   "metadata": {},
   "source": [
    "# Music Classification\n",
    "\n",
    "Music Genre Recognition is a well researched Music Information Retrieval task. As for many other audio-based MIR tasks the algorithmic design consists of two parts. First, audio-content descriptors are extracted from the audio signal. In a second step these features are used to train machine learning based models, using popular supervised classifiers including k-nearest neighbors (k-NN), Gaussian mixture models (GMM) or Support Vector Machines (SVM)."
   ]
  },
  {
   "cell_type": "markdown",
   "metadata": {},
   "source": [
    "## Data-preprocessing\n",
    "\n",
    "The ground-truth labels are provided using their class names, in our case they are names of music genres, and thus are string values. The applied machine-learning algorithms expect numerical class labels. Thus, you are required to pre-process your data:\n",
    "\n",
    " * use sklearn's *LabelEncoder* to convert string- into numeric-labels\n",
    " * fit the encoder on the provided genre labels\n",
    " * create a list called *encoded_labels* using the *transform* method of the encoder"
   ]
  },
  {
   "cell_type": "code",
   "execution_count": 83,
   "metadata": {
    "ExecuteTime": {
     "end_time": "2017-05-15T23:40:57.709000",
     "start_time": "2017-05-15T23:40:57.706000"
    },
    "collapsed": false
   },
   "outputs": [
    {
     "name": "stdout",
     "output_type": "stream",
     "text": [
      "[0 0 0 0 0 0 0 0 0 0 ..., 9 9 9 9 9 9 9 9 9 9]\n"
     ]
    }
   ],
   "source": [
    "# docs: http://scikit-learn.org/stable/modules/generated/sklearn.preprocessing.LabelEncoder.html\n",
    "le = LabelEncoder()\n",
    "le.fit(labels)\n",
    "encoded_labels = le.transform(labels)\n",
    "# 10 genres encoded\n",
    "print encoded_labels"
   ]
  },
  {
   "cell_type": "markdown",
   "metadata": {},
   "source": [
    "## Classification Experiments\n",
    "\n",
    "Iterate over all feature-sets. For each previously extracted feature perform the following steps:\n",
    "\n",
    "1. A common way to evaluate the performance of a machine learning approach is to perform a cross-validation. For this exercise you will be using a stratified K-Fold cross-validation. A K-Fold cross-validation splits the data-set into K equally-sized parts and uses K-1 parts to train the classifier and the remaining part to test it. The stratification asserts that the frequency distribution of the class labels within the folds corresponds to the original distribution of the ground-truth assignment. As a first step create a shuffled *StratifiedKFold* cross-validation object which generated 10 *splits* (10-fold cross-validation).<br><br>\n",
    "\n",
    "2. For each train/test-split apply the following commands:\n",
    "\n",
    "    2.1. Pre-process the feature-space: audio features are usually abstract content descriptors and have varying value ranges. Many machine learning algorithms expect all features to have the same value ranges. Thus, varying ranges will have a bias towards features with high value ranges. You will use Zero-Mean Unit-Variance Normalization - also referred to as Z-Score normalization or standardization, which subtracts the mean value from each feature and divides it by its variance. An important fact to note here, is that the parameters of the scaler are part of the trained classification model. They have to be assessed from the training-split, because the test-split is supposed to be unseen data. Use the sklearn *StandardScaler* and process the feature-data similar to the *LabelEncoder* by fitting the scaler using only the training-instances. After fitting the scaler transform the feature vectors of the training-split (but do not overwrite the original features!).<br>\n",
    "    2.2. You will use the Support Vector Machine (SVM) classifier to train a model for automatic genre prediction. The sklearn recently made some efforts to standardize their APIs. Thus, also the SVM classifier adheres to the same pattern. First, create a *LinearSVC* classifier using its default parameters. Then, train the SVM using the *fit* method by supplying the train-split of the feature vecotrs and the ground-truth labels.<br>\n",
    "    2.3. similar to 2.1. standardize the test-split using the already fitted scaler.<br>\n",
    "    2.4. use the fitted SVM to predict the scaled test-split feature vectors using its *predict* method.<br>\n",
    "    2.5. for each fold, store the true and predicted numeric labels.<br><br>\n",
    "    \n",
    "3. for each feature-set, store the true and predicted labels of the evaluation back to the provided dictionary.\n"
   ]
  },
  {
   "cell_type": "code",
   "execution_count": 89,
   "metadata": {
    "collapsed": false
   },
   "outputs": [
    {
     "name": "stderr",
     "output_type": "stream",
     "text": [
      "100% |########################################################################|\n"
     ]
    }
   ],
   "source": [
    "# fill this dictionary with values\n",
    "classification_results = {}\n",
    "\n",
    "pbar = progressbar.ProgressBar()\n",
    "\n",
    "for feature_name in pbar(audio_features.keys()):\n",
    "    \n",
    "    # 1. crossvalidation\n",
    "    # docs: http://scikit-learn.org/stable/modules/generated/sklearn.model_selection.StratifiedKFold.html\n",
    "    skf = StratifiedKFold(n_splits=10, shuffle=True)\n",
    "    \n",
    "    X = audio_features[feature_name]\n",
    "    y = encoded_labels\n",
    "    y_true = [] \n",
    "    y_pred = []\n",
    "    \n",
    "    # 2. run cross-validation\n",
    "    for train_index, test_index in skf.split(X, y):\n",
    "        X_train, X_test = X[train_index], X[test_index]\n",
    "        y_train, y_test = y[train_index], y[test_index]\n",
    "        \n",
    "        # --- TRAIN ---\n",
    "        \n",
    "        # 2.1. fit scaler\n",
    "        # scale training-partition of features\n",
    "        sc = StandardScaler()\n",
    "        sc.fit(X_train)\n",
    "        X_train_scaled = sc.transform(X_train)\n",
    "        \n",
    "        # 2.2. create classifier\n",
    "        clr = LinearSVC()\n",
    "    \n",
    "        # fit classifier with scaled training-set\n",
    "        clr.fit(X_train_scaled, y_train)\n",
    "        \n",
    "        # --- TEST ---\n",
    "        \n",
    "        # 2.3. scale test-partition of features\n",
    "        X_test_scaled = sc.transform(X_test)\n",
    "        \n",
    "        # 2.4. use fitted classifier to predict labels of test-partition\n",
    "        y_pred.extend(clr.predict(X_test))\n",
    "        \n",
    "        # 2.5. store the true and predicted labels\n",
    "        y_true.extend(y_test)\n",
    "        \n",
    "    # 3. store the classification results back to the dictionary\n",
    "    classification_results[feature_name] = [y_true, y_pred]\n",
    "    "
   ]
  },
  {
   "cell_type": "markdown",
   "metadata": {},
   "source": [
    "**Plot the classification result table**\n",
    "\n",
    "If you have supplied the results in the requested format, you should be able to use our provided function to plot the classification results-table."
   ]
  },
  {
   "cell_type": "code",
   "execution_count": 101,
   "metadata": {
    "ExecuteTime": {
     "end_time": "2017-05-15T23:32:51.486000",
     "start_time": "2017-05-15T23:32:51.386000"
    },
    "collapsed": false
   },
   "outputs": [
    {
     "data": {
      "text/html": [
       "<table border=\"1\" class=\"dataframe\">\n",
       "  <thead>\n",
       "    <tr style=\"text-align: right;\">\n",
       "      <th>Featureset</th>\n",
       "      <th>Accuracy</th>\n",
       "      <th>Precision</th>\n",
       "      <th>Recall</th>\n",
       "      <th>F1-Score</th>\n",
       "    </tr>\n",
       "  </thead>\n",
       "  <tbody>\n",
       "    <tr>\n",
       "      <td>rp</td>\n",
       "      <td>0.154</td>\n",
       "      <td>0.123980</td>\n",
       "      <td>0.154</td>\n",
       "      <td>0.090475</td>\n",
       "    </tr>\n",
       "    <tr>\n",
       "      <td>ssd</td>\n",
       "      <td>0.138</td>\n",
       "      <td>0.221148</td>\n",
       "      <td>0.138</td>\n",
       "      <td>0.093857</td>\n",
       "    </tr>\n",
       "    <tr>\n",
       "      <td>mfcc</td>\n",
       "      <td>0.100</td>\n",
       "      <td>0.010152</td>\n",
       "      <td>0.100</td>\n",
       "      <td>0.018433</td>\n",
       "    </tr>\n",
       "    <tr>\n",
       "      <td>chroma</td>\n",
       "      <td>0.100</td>\n",
       "      <td>0.010560</td>\n",
       "      <td>0.100</td>\n",
       "      <td>0.019102</td>\n",
       "    </tr>\n",
       "  </tbody>\n",
       "</table>"
      ],
      "text/plain": [
       "<IPython.core.display.HTML object>"
      ]
     },
     "execution_count": 101,
     "metadata": {},
     "output_type": "execute_result"
    }
   ],
   "source": [
    "assert len(classification_results['ssd'][0]) == N_SAMPLES\n",
    "assert len(classification_results['ssd'][1]) == N_SAMPLES\n",
    "show_classification_results(classification_results)"
   ]
  },
  {
   "cell_type": "markdown",
   "metadata": {},
   "source": [
    "## Feature-set combinations\n",
    "\n",
    "Music is a complex concept which cannot be described easily by a single property. Music is not just rhythm or a certain timbre/sound. It is more a mixture of all of it. This also applies to music features. Different combinations of features perform better than others, but there is no rule of thumbs which ones. This has to be evaluated according the underlying dataset, the applied classifier, the normalization method, etc. All these parameters affect the performance of the classification model.\n",
    "\n",
    "For this exercise, extend the previously developed classification approach by a feature combination component. Because the dataset is small, it is feasable to evaluate all possible feature-set combinations. Execute to the following cell to calculate all combinations:"
   ]
  },
  {
   "cell_type": "code",
   "execution_count": 133,
   "metadata": {
    "ExecuteTime": {
     "end_time": "2017-05-15T23:33:19.391000",
     "start_time": "2017-05-15T23:33:19.316000"
    },
    "collapsed": false
   },
   "outputs": [
    {
     "name": "stdout",
     "output_type": "stream",
     "text": [
      "[('ssd',), ('rp',), ('chroma',), ('mfcc',), ('ssd', 'rp'), ('ssd', 'chroma'), ('ssd', 'mfcc'), ('rp', 'chroma'), ('rp', 'mfcc'), ('chroma', 'mfcc'), ('ssd', 'rp', 'chroma'), ('ssd', 'rp', 'mfcc'), ('ssd', 'chroma', 'mfcc'), ('rp', 'chroma', 'mfcc'), ('ssd', 'rp', 'chroma', 'mfcc')]\n"
     ]
    }
   ],
   "source": [
    "combinations = []\n",
    "\n",
    "for i in range(1, len(audio_features.keys()) + 1):\n",
    "    combinations.extend(itertools.combinations(audio_features.keys(), i))\n",
    "    \n",
    "print combinations"
   ]
  },
  {
   "cell_type": "markdown",
   "metadata": {},
   "source": [
    "Combining features is also referred to as fusion and two common approaches, early fusion and late fusion, exist. You will be using an early fusion approach to extend the classification experiment. To do so, either copy and paste the code of the evaluation-loop into a new cell, or adapt the code of the existing cell:\n",
    "\n",
    "* in the for loop, change the iterable from *audio_features.keys()* to *combinations*. You are also adviced to change the variable name *feature_name* to reflect the circumstance that the variable contains now a list of feature names.\n",
    "* implement the early fusion approach. This is accomplished by appending one feature vector to the other to create a combined feature vector. This can be solved by combining the feature-spaces. Use the numpy function *concatenate* to concatenate the feature combinations along feature axis. This can be done before the cross-validation loop or within. \n",
    "* be sure to reset the *classification_results* dictionary before running the evaluation again."
   ]
  },
  {
   "cell_type": "code",
   "execution_count": 134,
   "metadata": {
    "collapsed": false
   },
   "outputs": [
    {
     "name": "stderr",
     "output_type": "stream",
     "text": [
      "  0% |                                                                        |\r"
     ]
    },
    {
     "name": "stdout",
     "output_type": "stream",
     "text": [
      "Features: ('ssd',)\n"
     ]
    },
    {
     "name": "stderr",
     "output_type": "stream",
     "text": [
      "  6% |####                                                                    |\r"
     ]
    },
    {
     "name": "stdout",
     "output_type": "stream",
     "text": [
      "Features: ('rp',)\n"
     ]
    },
    {
     "name": "stderr",
     "output_type": "stream",
     "text": [
      " 13% |#########                                                               |\r"
     ]
    },
    {
     "name": "stdout",
     "output_type": "stream",
     "text": [
      "Features: ('chroma',)\n"
     ]
    },
    {
     "name": "stderr",
     "output_type": "stream",
     "text": [
      " 20% |##############                                                          |\r"
     ]
    },
    {
     "name": "stdout",
     "output_type": "stream",
     "text": [
      "Features: ('mfcc',)\n"
     ]
    },
    {
     "name": "stderr",
     "output_type": "stream",
     "text": [
      " 26% |###################                                                     |\r"
     ]
    },
    {
     "name": "stdout",
     "output_type": "stream",
     "text": [
      "Features: ('ssd', 'rp')\n"
     ]
    },
    {
     "name": "stderr",
     "output_type": "stream",
     "text": [
      " 33% |########################                                                |\r"
     ]
    },
    {
     "name": "stdout",
     "output_type": "stream",
     "text": [
      "Features: ('ssd', 'chroma')\n"
     ]
    },
    {
     "name": "stderr",
     "output_type": "stream",
     "text": [
      " 40% |############################                                            |\r"
     ]
    },
    {
     "name": "stdout",
     "output_type": "stream",
     "text": [
      "Features: ('ssd', 'mfcc')\n"
     ]
    },
    {
     "name": "stderr",
     "output_type": "stream",
     "text": [
      " 46% |#################################                                       |\r"
     ]
    },
    {
     "name": "stdout",
     "output_type": "stream",
     "text": [
      "Features: ('rp', 'chroma')\n"
     ]
    },
    {
     "name": "stderr",
     "output_type": "stream",
     "text": [
      " 53% |######################################                                  |\r"
     ]
    },
    {
     "name": "stdout",
     "output_type": "stream",
     "text": [
      "Features: ('rp', 'mfcc')\n"
     ]
    },
    {
     "name": "stderr",
     "output_type": "stream",
     "text": [
      " 60% |###########################################                             |\r"
     ]
    },
    {
     "name": "stdout",
     "output_type": "stream",
     "text": [
      "Features: ('chroma', 'mfcc')\n"
     ]
    },
    {
     "name": "stderr",
     "output_type": "stream",
     "text": [
      " 66% |################################################                        |\r"
     ]
    },
    {
     "name": "stdout",
     "output_type": "stream",
     "text": [
      "Features: ('ssd', 'rp', 'chroma')\n"
     ]
    },
    {
     "name": "stderr",
     "output_type": "stream",
     "text": [
      " 73% |####################################################                    |\r"
     ]
    },
    {
     "name": "stdout",
     "output_type": "stream",
     "text": [
      "Features: ('ssd', 'rp', 'mfcc')\n"
     ]
    },
    {
     "name": "stderr",
     "output_type": "stream",
     "text": [
      " 80% |#########################################################               |\r"
     ]
    },
    {
     "name": "stdout",
     "output_type": "stream",
     "text": [
      "Features: ('ssd', 'chroma', 'mfcc')\n"
     ]
    },
    {
     "name": "stderr",
     "output_type": "stream",
     "text": [
      " 86% |##############################################################          |\r"
     ]
    },
    {
     "name": "stdout",
     "output_type": "stream",
     "text": [
      "Features: ('rp', 'chroma', 'mfcc')\n"
     ]
    },
    {
     "name": "stderr",
     "output_type": "stream",
     "text": [
      " 93% |###################################################################     |\r"
     ]
    },
    {
     "name": "stdout",
     "output_type": "stream",
     "text": [
      "Features: ('ssd', 'rp', 'chroma', 'mfcc')\n"
     ]
    },
    {
     "name": "stderr",
     "output_type": "stream",
     "text": [
      "100% |########################################################################|\r\n"
     ]
    }
   ],
   "source": [
    "# fill this dictionary with values\n",
    "classification_results_fusion = {}\n",
    "\n",
    "pbar = progressbar.ProgressBar()\n",
    "\n",
    "for feature_names in pbar(combinations):\n",
    "    \n",
    "    # 1. crossvalidation\n",
    "    # docs: http://scikit-learn.org/stable/modules/generated/sklearn.model_selection.StratifiedKFold.html\n",
    "    skf = StratifiedKFold(n_splits=10, shuffle=True)\n",
    "    \n",
    "    # early fusion approach to combine features for classification\n",
    "    print 'Features:', feature_names\n",
    "    if len(feature_names) > 1:\n",
    "        features = [audio_features[feature_name] for feature_name in feature_names]\n",
    "        # docs: https://docs.scipy.org/doc/numpy/reference/generated/numpy.concatenate.html\n",
    "        # default: axis=0\n",
    "        X = np.concatenate(features, axis=1)\n",
    "    else:\n",
    "        X = audio_features[feature_names[0]]\n",
    "    y = encoded_labels\n",
    "    assert len(X) == len(y)\n",
    "    y_true = [] \n",
    "    y_pred = []\n",
    "    \n",
    "    # 2. run cross-validation\n",
    "    for train_index, test_index in skf.split(X, y):\n",
    "        X_train, X_test = X[train_index], X[test_index]\n",
    "        y_train, y_test = y[train_index], y[test_index]\n",
    "        \n",
    "        # --- TRAIN ---\n",
    "        \n",
    "        # 2.1. fit scaler\n",
    "        # scale training-partition of features\n",
    "        sc = StandardScaler()\n",
    "        sc.fit(X_train)\n",
    "        X_train_scaled = sc.transform(X_train)\n",
    "        \n",
    "        # 2.2. create classifier\n",
    "        clr = LinearSVC()\n",
    "    \n",
    "        # fit classifier with scaled training-set\n",
    "        clr.fit(X_train_scaled, y_train)\n",
    "        \n",
    "        # --- TEST ---\n",
    "        \n",
    "        # 2.3. scale test-partition of features\n",
    "        X_test_scaled = sc.transform(X_test)\n",
    "        \n",
    "        # 2.4. use fitted classifier to predict labels of test-partition\n",
    "        y_pred.extend(clr.predict(X_test))\n",
    "        \n",
    "        # 2.5. store the true and predicted labels\n",
    "        y_true.extend(y_test)\n",
    "        \n",
    "    # 3. store the classification results back to the dictionary\n",
    "    classification_results_fusion[feature_names] = [y_true, y_pred]"
   ]
  },
  {
   "cell_type": "markdown",
   "metadata": {},
   "source": [
    "**Plot the classification result table and confusion matrix**\n",
    "\n",
    "If you have supplied the results in the requested format, you should be able to use our provided function to plot the classification results-table and the confusion matrix. A confusion matrix is a convenient tool to assess class-level model performance. It shows which classes are mutually confused. This can help to tune the parameters of the model or to choose different features/combinations.\n",
    "\n",
    "To estimate the performance of the evaluated models:\n",
    "* plot four result tables and confusion matrices including the top-performing result.\n",
    "* write a paragraph where you summarize the conclusions of the classification experiments\n",
    "  * which feature-set/feature-set-combinations perform best?\n",
    "  * for which classes are they performing best?\n",
    "  * which classes are confused most?\n",
    "  * what does this tell about the audio features?"
   ]
  },
  {
   "cell_type": "code",
   "execution_count": 135,
   "metadata": {
    "ExecuteTime": {
     "end_time": "2017-05-15T23:33:34.990000",
     "start_time": "2017-05-15T23:33:34.849000"
    },
    "collapsed": false
   },
   "outputs": [
    {
     "data": {
      "text/html": [
       "<table border=\"1\" class=\"dataframe\">\n",
       "  <thead>\n",
       "    <tr style=\"text-align: right;\">\n",
       "      <th>Featureset</th>\n",
       "      <th>Accuracy</th>\n",
       "      <th>Precision</th>\n",
       "      <th>Recall</th>\n",
       "      <th>F1-Score</th>\n",
       "    </tr>\n",
       "  </thead>\n",
       "  <tbody>\n",
       "    <tr>\n",
       "      <td>(ssd, mfcc)</td>\n",
       "      <td>0.206</td>\n",
       "      <td>0.166363</td>\n",
       "      <td>0.206</td>\n",
       "      <td>0.137019</td>\n",
       "    </tr>\n",
       "    <tr>\n",
       "      <td>(ssd, rp)</td>\n",
       "      <td>0.200</td>\n",
       "      <td>0.189214</td>\n",
       "      <td>0.200</td>\n",
       "      <td>0.156018</td>\n",
       "    </tr>\n",
       "    <tr>\n",
       "      <td>(ssd, chroma, mfcc)</td>\n",
       "      <td>0.198</td>\n",
       "      <td>0.159660</td>\n",
       "      <td>0.198</td>\n",
       "      <td>0.127006</td>\n",
       "    </tr>\n",
       "    <tr>\n",
       "      <td>(ssd, rp, chroma)</td>\n",
       "      <td>0.191</td>\n",
       "      <td>0.209677</td>\n",
       "      <td>0.191</td>\n",
       "      <td>0.145384</td>\n",
       "    </tr>\n",
       "    <tr>\n",
       "      <td>(rp,)</td>\n",
       "      <td>0.162</td>\n",
       "      <td>0.164977</td>\n",
       "      <td>0.162</td>\n",
       "      <td>0.102206</td>\n",
       "    </tr>\n",
       "    <tr>\n",
       "      <td>(ssd, chroma)</td>\n",
       "      <td>0.158</td>\n",
       "      <td>0.193234</td>\n",
       "      <td>0.158</td>\n",
       "      <td>0.118566</td>\n",
       "    </tr>\n",
       "    <tr>\n",
       "      <td>(rp, chroma)</td>\n",
       "      <td>0.145</td>\n",
       "      <td>0.111843</td>\n",
       "      <td>0.145</td>\n",
       "      <td>0.065920</td>\n",
       "    </tr>\n",
       "    <tr>\n",
       "      <td>(ssd, rp, chroma, mfcc)</td>\n",
       "      <td>0.144</td>\n",
       "      <td>0.111687</td>\n",
       "      <td>0.144</td>\n",
       "      <td>0.078183</td>\n",
       "    </tr>\n",
       "    <tr>\n",
       "      <td>(ssd, rp, mfcc)</td>\n",
       "      <td>0.133</td>\n",
       "      <td>0.141575</td>\n",
       "      <td>0.133</td>\n",
       "      <td>0.069359</td>\n",
       "    </tr>\n",
       "    <tr>\n",
       "      <td>(ssd,)</td>\n",
       "      <td>0.129</td>\n",
       "      <td>0.168850</td>\n",
       "      <td>0.129</td>\n",
       "      <td>0.084014</td>\n",
       "    </tr>\n",
       "    <tr>\n",
       "      <td>(chroma, mfcc)</td>\n",
       "      <td>0.102</td>\n",
       "      <td>0.110152</td>\n",
       "      <td>0.102</td>\n",
       "      <td>0.022355</td>\n",
       "    </tr>\n",
       "    <tr>\n",
       "      <td>(mfcc,)</td>\n",
       "      <td>0.101</td>\n",
       "      <td>0.110163</td>\n",
       "      <td>0.101</td>\n",
       "      <td>0.020430</td>\n",
       "    </tr>\n",
       "    <tr>\n",
       "      <td>(rp, mfcc)</td>\n",
       "      <td>0.100</td>\n",
       "      <td>0.010000</td>\n",
       "      <td>0.100</td>\n",
       "      <td>0.018182</td>\n",
       "    </tr>\n",
       "    <tr>\n",
       "      <td>(rp, chroma, mfcc)</td>\n",
       "      <td>0.100</td>\n",
       "      <td>0.010000</td>\n",
       "      <td>0.100</td>\n",
       "      <td>0.018182</td>\n",
       "    </tr>\n",
       "    <tr>\n",
       "      <td>(chroma,)</td>\n",
       "      <td>0.100</td>\n",
       "      <td>0.010449</td>\n",
       "      <td>0.100</td>\n",
       "      <td>0.018921</td>\n",
       "    </tr>\n",
       "  </tbody>\n",
       "</table>"
      ],
      "text/plain": [
       "<IPython.core.display.HTML object>"
      ]
     },
     "execution_count": 135,
     "metadata": {},
     "output_type": "execute_result"
    }
   ],
   "source": [
    "show_classification_results(classification_results_fusion)"
   ]
  },
  {
   "cell_type": "code",
   "execution_count": 131,
   "metadata": {
    "ExecuteTime": {
     "end_time": "2017-05-15T23:33:52.202000",
     "start_time": "2017-05-15T23:33:51.577000"
    },
    "collapsed": false
   },
   "outputs": [
    {
     "data": {
      "image/png": "[encoded data removed]",
      "text/plain": [
       "<matplotlib.figure.Figure at 0x1178b15d0>"
      ]
     },
     "metadata": {},
     "output_type": "display_data"
    },
    {
     "data": {
      "image/png": "[encoded data removed]",
      "text/plain": [
       "<matplotlib.figure.Figure at 0x11a65c290>"
      ]
     },
     "metadata": {},
     "output_type": "display_data"
    }
   ],
   "source": [
    "# le - label encoder fit previously\n",
    "plot_confusion_matrix(classification_results[\"ssd\"], le)\n",
    "plot_confusion_matrix(classification_results_fusion[('ssd',)], le)"
   ]
  },
  {
   "cell_type": "markdown",
   "metadata": {},
   "source": [
    "### Conclusions\n",
    "\n",
    "Write your conclusions here..."
   ]
  },
  {
   "cell_type": "markdown",
   "metadata": {},
   "source": [
    "# Similarity Retrieval / Query by example\n",
    "\n",
    "The second part of the assignment focuses on retrieving similar songs to a given example. Content based music similarity can also be defined upon the numeric feature-space. Thus, you will use the extracted music features from the classification experiments, but now you will implement a late fusion approach. The problem with early fusion is that results will skew towards features-sets with higher dimensionality. Late fusion represents a convenient method to overcome this problem by combining the result-spaces instead of the feature-spaces. For each feature first the similarities are calculated separately and then aggregated into a final estimation. Thus, every feature has an equal influence on the final result."
   ]
  },
  {
   "cell_type": "markdown",
   "metadata": {},
   "source": [
    "**Normalization**\n",
    "\n",
    "Just like for the classification experiments the feature-spaces first need to be normalized. \n",
    "\n",
    "* iterate over all feature-sets\n",
    "* use the *StandardScaler* as above, but because there are no train/test-splits, fit the scaler using all instances of a feature-set, and finally perform the transformation\n",
    "* you can overwrite the extracted *audio_features*; their original values are not required further."
   ]
  },
  {
   "cell_type": "code",
   "execution_count": null,
   "metadata": {
    "ExecuteTime": {
     "end_time": "2017-05-15T23:34:07.262000",
     "start_time": "2017-05-15T23:34:07.153000"
    },
    "collapsed": true
   },
   "outputs": [],
   "source": [
    "# add your code here\n"
   ]
  },
  {
   "cell_type": "markdown",
   "metadata": {},
   "source": [
    "**Implement a query-by-example system:**\n",
    "\n",
    "* define a *query_id* variable. This represents the index into the feature-space. The feature-vector with the corresponding id will be used to find similar songs.\n",
    "* define a list of feature-set names. This is equivalent to the feature combinations you have implemented for the classification experiments.\n",
    "* define a corresponding list of feature-weights. Usually weights scale from 0.0 to 1.0 and represent the influence of a feature-set on the final result.\n",
    "* for each feature-set of the specified feature-set combination:\n",
    "  * calculate the Eucledian-distance from the query-feature-vector to every other vector of a feature-set:\n",
    "\n",
    "$$\n",
    "\\sum \\sqrt{(audio\\_features[feature\\_name] - audio\\_features[feature\\_name][query\\_id])^{2}}\n",
    "$$\n",
    "\n",
    "  * this will result in a distance value for each feature-vector representing the dis-similarity to the query-vector.\n",
    "  * due to variances in dimensionality and value-ranges these distances vary between the feature-sets. To normalize the impact of a distinct feature-set in a late-fusion approach, you have to normalize each resulting distance-list by dividing it by its maximum value.\n",
    "  * multiply each normalized distance-list with its corresponding feature-weight\n",
    "  * calculate the sum of the weighted distance-lists\n",
    "  * finally, use apply numpy function *argsort* on the final results to get the indexes to the feature-vectors ranked by their ascending summed distances. Thus, the top results have the lowest distance/dis-similarity to the query-vector and are expected to sound similar to the query-song.\n",
    "  * use our provided method to display the retrieval results:\n",
    "  \n",
    "        show_query_results(filenames, labels, ranked_index)\n",
    "      \n",
    "The displayed result-table contains HTML5 audio player tags. Unfortunately, most Internet browsers have a security-lock to prevent Web-pages from referencing or accessing local files. \n",
    "\n",
    "* To enable the playback of the audio-files, open a command-prompt and change to the root directory of the provided dataset (*AUDIO_COLLECTION_PATH*). \n",
    "* start the Python simple web-server on port 5555. This will create a simple web-server which handles requests to the local files:\n",
    "\n",
    "        > python -m SimpleHTTPServer 5555\n",
    "        "
   ]
  },
  {
   "cell_type": "code",
   "execution_count": null,
   "metadata": {
    "ExecuteTime": {
     "end_time": "2017-05-15T23:42:08.064000",
     "start_time": "2017-05-15T23:42:08.062000"
    },
    "collapsed": false
   },
   "outputs": [],
   "source": [
    "# add your code here\n"
   ]
  },
  {
   "cell_type": "markdown",
   "metadata": {},
   "source": [
    "* Experiment with different feature-set combinations and feature-weights using different query-songs.\n",
    "* show two good and two bad performing examples using the *show_query_results* function\n",
    "* write a paragraph where you summarize the conclusions of the query-by-example experiments\n",
    "  * which feature-sets are performing best and why?\n",
    "  * listening to the results, what is the perceived quality?\n",
    "    * in which terms do the top-ranked results sound similar\n",
    "    * are there songs that do not fit at all?\n",
    "    * do they at least share some acoustic similarity with the query-song (e.g. rhythm, instrumentation, pitch, etc.)?\n",
    "  * compare the query-by-example precision with the classification confusion-matrix for the corresponding feature-set-combination. Are the top confusions also predominant mismatches within the top-ranked retrieval results?"
   ]
  },
  {
   "cell_type": "markdown",
   "metadata": {},
   "source": [
    "### Conclusions\n",
    "\n",
    "Write your conclusions here..."
   ]
  }
 ],
 "metadata": {
  "anaconda-cloud": {},
  "kernelspec": {
   "display_name": "Python [conda root]",
   "language": "python",
   "name": "conda-root-py"
  },
  "language_info": {
   "codemirror_mode": {
    "name": "ipython",
    "version": 2
   },
   "file_extension": ".py",
   "mimetype": "text/x-python",
   "name": "python",
   "nbconvert_exporter": "python",
   "pygments_lexer": "ipython2",
   "version": "2.7.12"
  },
  "toc": {
   "toc_cell": false,
   "toc_number_sections": false,
   "toc_section_display": "none",
   "toc_threshold": 6,
   "toc_window_display": true
  }
 },
 "nbformat": 4,
 "nbformat_minor": 2
}
